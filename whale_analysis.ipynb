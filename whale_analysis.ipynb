{
 "cells": [
  {
   "cell_type": "markdown",
   "metadata": {},
   "source": [
    " #  A Whale off the Port(folio)\n",
    " ---\n",
    "\n",
    " In this assignment, you'll get to use what you've learned this week to evaluate the performance among various algorithmic, hedge, and mutual fund portfolios and compare them against the S&P 500 Index."
   ]
  },
  {
   "cell_type": "code",
   "execution_count": 1,
   "metadata": {},
   "outputs": [],
   "source": [
    "# Initial imports\n",
    "import pandas as pd\n",
    "import numpy as np\n",
    "import datetime as dt\n",
    "from pathlib import Path\n",
    "\n",
    "%matplotlib inline"
   ]
  },
  {
   "cell_type": "markdown",
   "metadata": {},
   "source": [
    "# Data Cleaning\n",
    "\n",
    "In this section, you will need to read the CSV files into DataFrames and perform any necessary data cleaning steps. After cleaning, combine all DataFrames into a single DataFrame.\n",
    "\n",
    "Files:\n",
    "\n",
    "* `whale_returns.csv`: Contains returns of some famous \"whale\" investors' portfolios.\n",
    "\n",
    "* `algo_returns.csv`: Contains returns from the in-house trading algorithms from Harold's company.\n",
    "\n",
    "* `sp500_history.csv`: Contains historical closing prices of the S&P 500 Index."
   ]
  },
  {
   "cell_type": "markdown",
   "metadata": {},
   "source": [
    "## Whale Returns\n",
    "\n",
    "Read the Whale Portfolio daily returns and clean the data"
   ]
  },
  {
   "cell_type": "code",
   "execution_count": 2,
   "metadata": {},
   "outputs": [],
   "source": [
    "# Reading whale returns\n",
    "whalepath = Path('Resources/whale_returns.csv')\n",
    "whale = pd.read_csv(whalepath)\n",
    "\n",
    "whale.set_index(pd.to_datetime(whale['Date'], infer_datetime_format=True), inplace=True)\n",
    "whale.drop(columns=['Date'], inplace=True)"
   ]
  },
  {
   "cell_type": "code",
   "execution_count": 3,
   "metadata": {},
   "outputs": [
    {
     "data": {
      "text/plain": [
       "SOROS FUND MANAGEMENT LLC      1\n",
       "PAULSON & CO.INC.              1\n",
       "TIGER GLOBAL MANAGEMENT LLC    1\n",
       "BERKSHIRE HATHAWAY INC         1\n",
       "dtype: int64"
      ]
     },
     "execution_count": 3,
     "metadata": {},
     "output_type": "execute_result"
    }
   ],
   "source": [
    "# Count nulls\n",
    "whale.isnull().sum()"
   ]
  },
  {
   "cell_type": "code",
   "execution_count": 4,
   "metadata": {},
   "outputs": [
    {
     "data": {
      "text/plain": [
       "SOROS FUND MANAGEMENT LLC      0\n",
       "PAULSON & CO.INC.              0\n",
       "TIGER GLOBAL MANAGEMENT LLC    0\n",
       "BERKSHIRE HATHAWAY INC         0\n",
       "dtype: int64"
      ]
     },
     "execution_count": 4,
     "metadata": {},
     "output_type": "execute_result"
    }
   ],
   "source": [
    "# Drop nulls\n",
    "whale2 = whale.dropna()\n",
    "whale2.isnull().sum()"
   ]
  },
  {
   "cell_type": "markdown",
   "metadata": {},
   "source": [
    "## Algorithmic Daily Returns\n",
    "\n",
    "Read the algorithmic daily returns and clean the data"
   ]
  },
  {
   "cell_type": "code",
   "execution_count": 5,
   "metadata": {},
   "outputs": [],
   "source": [
    "# Reading algorithmic returns\n",
    "algopath = Path('Resources/algo_returns.csv')\n",
    "algo = pd.read_csv(algopath)\n",
    "\n",
    "algo.set_index(pd.to_datetime(algo['Date'], infer_datetime_format=True), inplace=True)\n",
    "algo.drop(columns=['Date'], inplace=True)"
   ]
  },
  {
   "cell_type": "code",
   "execution_count": 6,
   "metadata": {},
   "outputs": [
    {
     "data": {
      "text/plain": [
       "Algo 1    0\n",
       "Algo 2    6\n",
       "dtype: int64"
      ]
     },
     "execution_count": 6,
     "metadata": {},
     "output_type": "execute_result"
    }
   ],
   "source": [
    "# Count nulls\n",
    "algo.isnull().sum()"
   ]
  },
  {
   "cell_type": "code",
   "execution_count": 7,
   "metadata": {},
   "outputs": [
    {
     "data": {
      "text/plain": [
       "Algo 1    0\n",
       "Algo 2    0\n",
       "dtype: int64"
      ]
     },
     "execution_count": 7,
     "metadata": {},
     "output_type": "execute_result"
    }
   ],
   "source": [
    "# Drop nulls\n",
    "algo2 = algo.dropna()\n",
    "algo2.isnull().sum()"
   ]
  },
  {
   "cell_type": "markdown",
   "metadata": {},
   "source": [
    "## S&P 500 Returns\n",
    "\n",
    "Read the S&P 500 historic closing prices and create a new daily returns DataFrame from the data. "
   ]
  },
  {
   "cell_type": "code",
   "execution_count": 8,
   "metadata": {},
   "outputs": [],
   "source": [
    "# Reading S&P 500 Closing Prices\n",
    "sp500path = Path('Resources/sp500_history.csv')\n",
    "sp500 = pd.read_csv(sp500path)\n",
    "\n",
    "\n",
    "sp500.set_index(pd.to_datetime(sp500['Date'], infer_datetime_format=True), inplace=True)\n",
    "sp500.drop(columns=['Date'], inplace=True)"
   ]
  },
  {
   "cell_type": "code",
   "execution_count": 9,
   "metadata": {},
   "outputs": [
    {
     "data": {
      "text/plain": [
       "Close    object\n",
       "dtype: object"
      ]
     },
     "execution_count": 9,
     "metadata": {},
     "output_type": "execute_result"
    }
   ],
   "source": [
    "# Check Data Types\n",
    "sp500.dtypes"
   ]
  },
  {
   "cell_type": "code",
   "execution_count": 10,
   "metadata": {},
   "outputs": [
    {
     "data": {
      "text/plain": [
       "Close    float64\n",
       "dtype: object"
      ]
     },
     "execution_count": 10,
     "metadata": {},
     "output_type": "execute_result"
    }
   ],
   "source": [
    "# Fix Data Types\n",
    "sp500_2 = sp500.convert_dtypes()\n",
    "sp500_2['Close'] = sp500_2['Close'].str.replace('$', '', regex=True)\n",
    "sp500_2['Close'] = sp500_2['Close'].astype('float')\n",
    "sp500_2.dtypes"
   ]
  },
  {
   "cell_type": "code",
   "execution_count": 11,
   "metadata": {},
   "outputs": [],
   "source": [
    "# Calculate Daily Returns\n",
    "#sp500_2.set_index(pd.to_datetime(sp500_2['Date'], infer_datetime_format=True), inplace=True)\n",
    "#sp500_2.head\n",
    "sp500_dr = sp500_2.pct_change()"
   ]
  },
  {
   "cell_type": "code",
   "execution_count": 12,
   "metadata": {},
   "outputs": [],
   "source": [
    "# Drop nulls\n",
    "sp500_3 = sp500_dr.dropna()"
   ]
  },
  {
   "cell_type": "code",
   "execution_count": 13,
   "metadata": {},
   "outputs": [
    {
     "data": {
      "text/html": [
       "<div>\n",
       "<style scoped>\n",
       "    .dataframe tbody tr th:only-of-type {\n",
       "        vertical-align: middle;\n",
       "    }\n",
       "\n",
       "    .dataframe tbody tr th {\n",
       "        vertical-align: top;\n",
       "    }\n",
       "\n",
       "    .dataframe thead th {\n",
       "        text-align: right;\n",
       "    }\n",
       "</style>\n",
       "<table border=\"1\" class=\"dataframe\">\n",
       "  <thead>\n",
       "    <tr style=\"text-align: right;\">\n",
       "      <th></th>\n",
       "      <th>S&amp;P 500</th>\n",
       "    </tr>\n",
       "    <tr>\n",
       "      <th>Date</th>\n",
       "      <th></th>\n",
       "    </tr>\n",
       "  </thead>\n",
       "  <tbody>\n",
       "    <tr>\n",
       "      <th>2019-04-22</th>\n",
       "      <td>-0.008764</td>\n",
       "    </tr>\n",
       "    <tr>\n",
       "      <th>2019-04-18</th>\n",
       "      <td>-0.001011</td>\n",
       "    </tr>\n",
       "    <tr>\n",
       "      <th>2019-04-17</th>\n",
       "      <td>-0.001577</td>\n",
       "    </tr>\n",
       "    <tr>\n",
       "      <th>2019-04-16</th>\n",
       "      <td>0.002279</td>\n",
       "    </tr>\n",
       "    <tr>\n",
       "      <th>2019-04-15</th>\n",
       "      <td>-0.000509</td>\n",
       "    </tr>\n",
       "  </tbody>\n",
       "</table>\n",
       "</div>"
      ],
      "text/plain": [
       "             S&P 500\n",
       "Date                \n",
       "2019-04-22 -0.008764\n",
       "2019-04-18 -0.001011\n",
       "2019-04-17 -0.001577\n",
       "2019-04-16  0.002279\n",
       "2019-04-15 -0.000509"
      ]
     },
     "execution_count": 13,
     "metadata": {},
     "output_type": "execute_result"
    }
   ],
   "source": [
    "# Rename `Close` Column to be specific to this portfolio.\n",
    "sp500_4 = sp500_3.rename(columns = {'Close':'S&P 500'})\n",
    "sp500_4.head()\n"
   ]
  },
  {
   "cell_type": "markdown",
   "metadata": {},
   "source": [
    "## Combine Whale, Algorithmic, and S&P 500 Returns"
   ]
  },
  {
   "cell_type": "code",
   "execution_count": 14,
   "metadata": {},
   "outputs": [
    {
     "data": {
      "text/html": [
       "<div>\n",
       "<style scoped>\n",
       "    .dataframe tbody tr th:only-of-type {\n",
       "        vertical-align: middle;\n",
       "    }\n",
       "\n",
       "    .dataframe tbody tr th {\n",
       "        vertical-align: top;\n",
       "    }\n",
       "\n",
       "    .dataframe thead th {\n",
       "        text-align: right;\n",
       "    }\n",
       "</style>\n",
       "<table border=\"1\" class=\"dataframe\">\n",
       "  <thead>\n",
       "    <tr style=\"text-align: right;\">\n",
       "      <th></th>\n",
       "      <th>SOROS FUND MANAGEMENT LLC</th>\n",
       "      <th>PAULSON &amp; CO.INC.</th>\n",
       "      <th>TIGER GLOBAL MANAGEMENT LLC</th>\n",
       "      <th>BERKSHIRE HATHAWAY INC</th>\n",
       "      <th>Algo 1</th>\n",
       "      <th>Algo 2</th>\n",
       "      <th>S&amp;P 500</th>\n",
       "    </tr>\n",
       "    <tr>\n",
       "      <th>Date</th>\n",
       "      <th></th>\n",
       "      <th></th>\n",
       "      <th></th>\n",
       "      <th></th>\n",
       "      <th></th>\n",
       "      <th></th>\n",
       "      <th></th>\n",
       "    </tr>\n",
       "  </thead>\n",
       "  <tbody>\n",
       "    <tr>\n",
       "      <th>2015-03-03</th>\n",
       "      <td>-0.001266</td>\n",
       "      <td>-0.004981</td>\n",
       "      <td>-0.000496</td>\n",
       "      <td>-0.006569</td>\n",
       "      <td>-0.001942</td>\n",
       "      <td>-0.000949</td>\n",
       "      <td>0.004408</td>\n",
       "    </tr>\n",
       "    <tr>\n",
       "      <th>2015-03-04</th>\n",
       "      <td>0.002230</td>\n",
       "      <td>0.003241</td>\n",
       "      <td>-0.002534</td>\n",
       "      <td>0.004213</td>\n",
       "      <td>-0.008589</td>\n",
       "      <td>0.002416</td>\n",
       "      <td>-0.001195</td>\n",
       "    </tr>\n",
       "    <tr>\n",
       "      <th>2015-03-05</th>\n",
       "      <td>0.004016</td>\n",
       "      <td>0.004076</td>\n",
       "      <td>0.002355</td>\n",
       "      <td>0.006726</td>\n",
       "      <td>-0.000955</td>\n",
       "      <td>0.004323</td>\n",
       "      <td>0.014378</td>\n",
       "    </tr>\n",
       "    <tr>\n",
       "      <th>2015-03-06</th>\n",
       "      <td>-0.007905</td>\n",
       "      <td>-0.003574</td>\n",
       "      <td>-0.008481</td>\n",
       "      <td>-0.013098</td>\n",
       "      <td>-0.004957</td>\n",
       "      <td>-0.011460</td>\n",
       "      <td>-0.003929</td>\n",
       "    </tr>\n",
       "    <tr>\n",
       "      <th>2015-03-09</th>\n",
       "      <td>0.000582</td>\n",
       "      <td>0.004225</td>\n",
       "      <td>0.005843</td>\n",
       "      <td>-0.001652</td>\n",
       "      <td>-0.005447</td>\n",
       "      <td>0.001303</td>\n",
       "      <td>0.017254</td>\n",
       "    </tr>\n",
       "  </tbody>\n",
       "</table>\n",
       "</div>"
      ],
      "text/plain": [
       "            SOROS FUND MANAGEMENT LLC  PAULSON & CO.INC.   \\\n",
       "Date                                                        \n",
       "2015-03-03                  -0.001266           -0.004981   \n",
       "2015-03-04                   0.002230            0.003241   \n",
       "2015-03-05                   0.004016            0.004076   \n",
       "2015-03-06                  -0.007905           -0.003574   \n",
       "2015-03-09                   0.000582            0.004225   \n",
       "\n",
       "            TIGER GLOBAL MANAGEMENT LLC  BERKSHIRE HATHAWAY INC    Algo 1  \\\n",
       "Date                                                                        \n",
       "2015-03-03                    -0.000496               -0.006569 -0.001942   \n",
       "2015-03-04                    -0.002534                0.004213 -0.008589   \n",
       "2015-03-05                     0.002355                0.006726 -0.000955   \n",
       "2015-03-06                    -0.008481               -0.013098 -0.004957   \n",
       "2015-03-09                     0.005843               -0.001652 -0.005447   \n",
       "\n",
       "              Algo 2   S&P 500  \n",
       "Date                            \n",
       "2015-03-03 -0.000949  0.004408  \n",
       "2015-03-04  0.002416 -0.001195  \n",
       "2015-03-05  0.004323  0.014378  \n",
       "2015-03-06 -0.011460 -0.003929  \n",
       "2015-03-09  0.001303  0.017254  "
      ]
     },
     "execution_count": 14,
     "metadata": {},
     "output_type": "execute_result"
    }
   ],
   "source": [
    "# Join Whale Returns, Algorithmic Returns, and the S&P 500 Returns into a single DataFrame with columns for each portfolio's returns.\n",
    "comb = pd.concat([whale2,algo2,sp500_4], axis=1, join='inner')\n",
    "comb.head()\n"
   ]
  },
  {
   "cell_type": "markdown",
   "metadata": {},
   "source": [
    "---"
   ]
  },
  {
   "cell_type": "markdown",
   "metadata": {},
   "source": [
    "# Conduct Quantitative Analysis\n",
    "\n",
    "In this section, you will calculate and visualize performance and risk metrics for the portfolios."
   ]
  },
  {
   "cell_type": "markdown",
   "metadata": {},
   "source": [
    "## Performance Anlysis\n",
    "\n",
    "#### Calculate and Plot the daily returns."
   ]
  },
  {
   "cell_type": "code",
   "execution_count": 15,
   "metadata": {},
   "outputs": [
    {
     "data": {
      "text/plain": [
       "array([<AxesSubplot:xlabel='Date'>, <AxesSubplot:xlabel='Date'>,\n",
       "       <AxesSubplot:xlabel='Date'>, <AxesSubplot:xlabel='Date'>,\n",
       "       <AxesSubplot:xlabel='Date'>, <AxesSubplot:xlabel='Date'>,\n",
       "       <AxesSubplot:xlabel='Date'>], dtype=object)"
      ]
     },
     "execution_count": 15,
     "metadata": {},
     "output_type": "execute_result"
    },
    {
     "data": {
      "image/png": "[encoded data removed]",
      "text/plain": [
       "<Figure size 432x288 with 7 Axes>"
      ]
     },
     "metadata": {
      "needs_background": "light"
     },
     "output_type": "display_data"
    }
   ],
   "source": [
    "# Plot daily returns of all portfolios\n",
    "comb.plot(subplots=True)"
   ]
  },
  {
   "cell_type": "markdown",
   "metadata": {},
   "source": [
    "#### Calculate and Plot cumulative returns."
   ]
  },
  {
   "cell_type": "code",
   "execution_count": 16,
   "metadata": {},
   "outputs": [
    {
     "data": {
      "text/plain": [
       "<AxesSubplot:xlabel='Date', ylabel='Cumulative Daily Returns'>"
      ]
     },
     "execution_count": 16,
     "metadata": {},
     "output_type": "execute_result"
    },
    {
     "data": {
      "image/png": "[encoded data removed]",
      "text/plain": [
       "<Figure size 432x288 with 1 Axes>"
      ]
     },
     "metadata": {
      "needs_background": "light"
     },
     "output_type": "display_data"
    }
   ],
   "source": [
    "# Calculate cumulative returns of all portfolios\n",
    "# Plot cumulative returns\n",
    "\n",
    "cr = (1 + comb).cumprod()\n",
    "cr.head()\n",
    "cr.plot(xlabel='Date', ylabel='Cumulative Daily Returns')"
   ]
  },
  {
   "cell_type": "markdown",
   "metadata": {},
   "source": [
    "---"
   ]
  },
  {
   "cell_type": "markdown",
   "metadata": {},
   "source": [
    "## Risk Analysis\n",
    "\n",
    "Determine the _risk_ of each portfolio:\n",
    "\n",
    "1. Create a box plot for each portfolio. \n",
    "2. Calculate the standard deviation for all portfolios\n",
    "4. Determine which portfolios are riskier than the S&P 500\n",
    "5. Calculate the Annualized Standard Deviation"
   ]
  },
  {
   "cell_type": "markdown",
   "metadata": {},
   "source": [
    "### Create a box plot for each portfolio\n"
   ]
  },
  {
   "cell_type": "code",
   "execution_count": 17,
   "metadata": {},
   "outputs": [
    {
     "data": {
      "text/plain": [
       "<AxesSubplot:ylabel='Daily Returns'>"
      ]
     },
     "execution_count": 17,
     "metadata": {},
     "output_type": "execute_result"
    },
    {
     "data": {
      "image/png": "[encoded data removed]",
      "text/plain": [
       "<Figure size 432x288 with 1 Axes>"
      ]
     },
     "metadata": {
      "needs_background": "light"
     },
     "output_type": "display_data"
    }
   ],
   "source": [
    "# Box plot to visually show risk\n",
    "comb.plot(kind='box', ylabel='Daily Returns', rot=90)"
   ]
  },
  {
   "cell_type": "markdown",
   "metadata": {},
   "source": [
    "### Calculate Standard Deviations"
   ]
  },
  {
   "cell_type": "code",
   "execution_count": 18,
   "metadata": {},
   "outputs": [
    {
     "data": {
      "text/plain": [
       "SOROS FUND MANAGEMENT LLC      0.007896\n",
       "PAULSON & CO.INC.              0.007026\n",
       "TIGER GLOBAL MANAGEMENT LLC    0.010897\n",
       "BERKSHIRE HATHAWAY INC         0.012919\n",
       "Algo 1                         0.007623\n",
       "Algo 2                         0.008341\n",
       "S&P 500                        0.008587\n",
       "dtype: float64"
      ]
     },
     "execution_count": 18,
     "metadata": {},
     "output_type": "execute_result"
    }
   ],
   "source": [
    "# Calculate the daily standard deviations of all portfolios\n",
    "dsd_p = comb.std()\n",
    "dsd_p"
   ]
  },
  {
   "cell_type": "markdown",
   "metadata": {},
   "source": [
    "### Determine which portfolios are riskier than the S&P 500"
   ]
  },
  {
   "cell_type": "code",
   "execution_count": 19,
   "metadata": {},
   "outputs": [
    {
     "data": {
      "text/plain": [
       "SOROS FUND MANAGEMENT LLC      False\n",
       "PAULSON & CO.INC.              False\n",
       "TIGER GLOBAL MANAGEMENT LLC     True\n",
       "BERKSHIRE HATHAWAY INC          True\n",
       "Algo 1                         False\n",
       "Algo 2                         False\n",
       "S&P 500                        False\n",
       "dtype: bool"
      ]
     },
     "execution_count": 19,
     "metadata": {},
     "output_type": "execute_result"
    }
   ],
   "source": [
    "# Calculate  the daily standard deviation of S&P 500\n",
    "dsd_5 = comb['S&P 500'].std()\n",
    "# Determine which portfolios are riskier than the S&P 500\n",
    "dsd_p > dsd_5\n"
   ]
  },
  {
   "cell_type": "markdown",
   "metadata": {},
   "source": [
    "### Calculate the Annualized Standard Deviation"
   ]
  },
  {
   "cell_type": "code",
   "execution_count": 20,
   "metadata": {},
   "outputs": [
    {
     "data": {
      "text/plain": [
       "SOROS FUND MANAGEMENT LLC      0.125348\n",
       "PAULSON & CO.INC.              0.111527\n",
       "TIGER GLOBAL MANAGEMENT LLC    0.172989\n",
       "BERKSHIRE HATHAWAY INC         0.205079\n",
       "Algo 1                         0.121006\n",
       "Algo 2                         0.132413\n",
       "S&P 500                        0.136313\n",
       "dtype: float64"
      ]
     },
     "execution_count": 20,
     "metadata": {},
     "output_type": "execute_result"
    }
   ],
   "source": [
    "# Calculate the annualized standard deviation (252 trading days)\n",
    "dsd_a = dsd_p * np.sqrt(252)\n",
    "dsd_a"
   ]
  },
  {
   "cell_type": "markdown",
   "metadata": {},
   "source": [
    "## Rolling Statistics\n",
    "\n",
    "Risk changes over time. Analyze the rolling statistics for Risk and Beta. \n",
    "\n",
    "1. Calculate and plot the rolling standard deviation for all portfolios using a 21-day window\n",
    "2. Calculate the correlation between each stock to determine which portfolios may mimick the S&P 500\n",
    "3. Choose one portfolio, then calculate and plot the 60-day rolling beta between it and the S&P 500"
   ]
  },
  {
   "cell_type": "markdown",
   "metadata": {},
   "source": [
    "### Calculate and plot rolling `std` for all portfolios with 21-day window"
   ]
  },
  {
   "cell_type": "code",
   "execution_count": 21,
   "metadata": {},
   "outputs": [
    {
     "data": {
      "text/plain": [
       "array([<AxesSubplot:xlabel='Date'>, <AxesSubplot:xlabel='Date'>,\n",
       "       <AxesSubplot:xlabel='Date'>, <AxesSubplot:xlabel='Date'>,\n",
       "       <AxesSubplot:xlabel='Date'>, <AxesSubplot:xlabel='Date'>,\n",
       "       <AxesSubplot:xlabel='Date'>], dtype=object)"
      ]
     },
     "execution_count": 21,
     "metadata": {},
     "output_type": "execute_result"
    },
    {
     "data": {
      "image/png": "[encoded data removed]",
      "text/plain": [
       "<Figure size 432x288 with 7 Axes>"
      ]
     },
     "metadata": {
      "needs_background": "light"
     },
     "output_type": "display_data"
    }
   ],
   "source": [
    "# Calculate the rolling standard deviation for all portfolios using a 21-day window\n",
    "comb_rsd = comb.rolling(window=21).std()\n",
    "# Plot the rolling standard deviation\n",
    "\n",
    "comb_rsd.plot(subplots=True)"
   ]
  },
  {
   "cell_type": "markdown",
   "metadata": {},
   "source": [
    "### Calculate and plot the correlation"
   ]
  },
  {
   "cell_type": "code",
   "execution_count": 22,
   "metadata": {},
   "outputs": [
    {
     "data": {
      "text/html": [
       "<style type=\"text/css\">\n",
       "#T_6a337_row0_col0, #T_6a337_row1_col1, #T_6a337_row2_col2, #T_6a337_row3_col3, #T_6a337_row4_col4, #T_6a337_row5_col5, #T_6a337_row6_col6 {\n",
       "  background-color: #ffff66;\n",
       "  color: #000000;\n",
       "}\n",
       "#T_6a337_row0_col1 {\n",
       "  background-color: #b2d866;\n",
       "  color: #000000;\n",
       "}\n",
       "#T_6a337_row0_col2, #T_6a337_row2_col0 {\n",
       "  background-color: #8fc766;\n",
       "  color: #000000;\n",
       "}\n",
       "#T_6a337_row0_col3, #T_6a337_row3_col0 {\n",
       "  background-color: #c1e066;\n",
       "  color: #000000;\n",
       "}\n",
       "#T_6a337_row0_col4 {\n",
       "  background-color: #57ab66;\n",
       "  color: #f1f1f1;\n",
       "}\n",
       "#T_6a337_row0_col5, #T_6a337_row5_col0 {\n",
       "  background-color: #d3e966;\n",
       "  color: #000000;\n",
       "}\n",
       "#T_6a337_row0_col6, #T_6a337_row2_col6 {\n",
       "  background-color: #088466;\n",
       "  color: #f1f1f1;\n",
       "}\n",
       "#T_6a337_row1_col0 {\n",
       "  background-color: #b3d966;\n",
       "  color: #000000;\n",
       "}\n",
       "#T_6a337_row1_col2 {\n",
       "  background-color: #6fb766;\n",
       "  color: #f1f1f1;\n",
       "}\n",
       "#T_6a337_row1_col3 {\n",
       "  background-color: #8dc666;\n",
       "  color: #000000;\n",
       "}\n",
       "#T_6a337_row1_col4, #T_6a337_row4_col5 {\n",
       "  background-color: #4aa466;\n",
       "  color: #f1f1f1;\n",
       "}\n",
       "#T_6a337_row1_col5 {\n",
       "  background-color: #add666;\n",
       "  color: #000000;\n",
       "}\n",
       "#T_6a337_row1_col6 {\n",
       "  background-color: #0b8566;\n",
       "  color: #f1f1f1;\n",
       "}\n",
       "#T_6a337_row2_col1 {\n",
       "  background-color: #6db666;\n",
       "  color: #f1f1f1;\n",
       "}\n",
       "#T_6a337_row2_col3 {\n",
       "  background-color: #6eb666;\n",
       "  color: #f1f1f1;\n",
       "}\n",
       "#T_6a337_row2_col4 {\n",
       "  background-color: #319866;\n",
       "  color: #f1f1f1;\n",
       "}\n",
       "#T_6a337_row2_col5, #T_6a337_row5_col2 {\n",
       "  background-color: #82c066;\n",
       "  color: #000000;\n",
       "}\n",
       "#T_6a337_row3_col1 {\n",
       "  background-color: #8ac466;\n",
       "  color: #000000;\n",
       "}\n",
       "#T_6a337_row3_col2 {\n",
       "  background-color: #6cb666;\n",
       "  color: #f1f1f1;\n",
       "}\n",
       "#T_6a337_row3_col4 {\n",
       "  background-color: #50a866;\n",
       "  color: #f1f1f1;\n",
       "}\n",
       "#T_6a337_row3_col5 {\n",
       "  background-color: #b0d866;\n",
       "  color: #000000;\n",
       "}\n",
       "#T_6a337_row3_col6 {\n",
       "  background-color: #048266;\n",
       "  color: #f1f1f1;\n",
       "}\n",
       "#T_6a337_row4_col0 {\n",
       "  background-color: #52a866;\n",
       "  color: #f1f1f1;\n",
       "}\n",
       "#T_6a337_row4_col1 {\n",
       "  background-color: #42a066;\n",
       "  color: #f1f1f1;\n",
       "}\n",
       "#T_6a337_row4_col2 {\n",
       "  background-color: #2a9466;\n",
       "  color: #f1f1f1;\n",
       "}\n",
       "#T_6a337_row4_col3 {\n",
       "  background-color: #4da666;\n",
       "  color: #f1f1f1;\n",
       "}\n",
       "#T_6a337_row4_col6, #T_6a337_row6_col0, #T_6a337_row6_col1, #T_6a337_row6_col2, #T_6a337_row6_col3, #T_6a337_row6_col4, #T_6a337_row6_col5 {\n",
       "  background-color: #008066;\n",
       "  color: #f1f1f1;\n",
       "}\n",
       "#T_6a337_row5_col1 {\n",
       "  background-color: #acd666;\n",
       "  color: #000000;\n",
       "}\n",
       "#T_6a337_row5_col3 {\n",
       "  background-color: #b1d866;\n",
       "  color: #000000;\n",
       "}\n",
       "#T_6a337_row5_col4 {\n",
       "  background-color: #4fa766;\n",
       "  color: #f1f1f1;\n",
       "}\n",
       "#T_6a337_row5_col6 {\n",
       "  background-color: #078366;\n",
       "  color: #f1f1f1;\n",
       "}\n",
       "</style>\n",
       "<table id=\"T_6a337_\">\n",
       "  <thead>\n",
       "    <tr>\n",
       "      <th class=\"blank level0\" >&nbsp;</th>\n",
       "      <th class=\"col_heading level0 col0\" >SOROS FUND MANAGEMENT LLC</th>\n",
       "      <th class=\"col_heading level0 col1\" >PAULSON & CO.INC. </th>\n",
       "      <th class=\"col_heading level0 col2\" >TIGER GLOBAL MANAGEMENT LLC</th>\n",
       "      <th class=\"col_heading level0 col3\" >BERKSHIRE HATHAWAY INC</th>\n",
       "      <th class=\"col_heading level0 col4\" >Algo 1</th>\n",
       "      <th class=\"col_heading level0 col5\" >Algo 2</th>\n",
       "      <th class=\"col_heading level0 col6\" >S&P 500</th>\n",
       "    </tr>\n",
       "  </thead>\n",
       "  <tbody>\n",
       "    <tr>\n",
       "      <th id=\"T_6a337_level0_row0\" class=\"row_heading level0 row0\" >SOROS FUND MANAGEMENT LLC</th>\n",
       "      <td id=\"T_6a337_row0_col0\" class=\"data row0 col0\" >1.000000</td>\n",
       "      <td id=\"T_6a337_row0_col1\" class=\"data row0 col1\" >0.699823</td>\n",
       "      <td id=\"T_6a337_row0_col2\" class=\"data row0 col2\" >0.561040</td>\n",
       "      <td id=\"T_6a337_row0_col3\" class=\"data row0 col3\" >0.754157</td>\n",
       "      <td id=\"T_6a337_row0_col4\" class=\"data row0 col4\" >0.320901</td>\n",
       "      <td id=\"T_6a337_row0_col5\" class=\"data row0 col5\" >0.826730</td>\n",
       "      <td id=\"T_6a337_row0_col6\" class=\"data row0 col6\" >0.000574</td>\n",
       "    </tr>\n",
       "    <tr>\n",
       "      <th id=\"T_6a337_level0_row1\" class=\"row_heading level0 row1\" >PAULSON & CO.INC. </th>\n",
       "      <td id=\"T_6a337_row1_col0\" class=\"data row1 col0\" >0.699823</td>\n",
       "      <td id=\"T_6a337_row1_col1\" class=\"data row1 col1\" >1.000000</td>\n",
       "      <td id=\"T_6a337_row1_col2\" class=\"data row1 col2\" >0.434308</td>\n",
       "      <td id=\"T_6a337_row1_col3\" class=\"data row1 col3\" >0.545451</td>\n",
       "      <td id=\"T_6a337_row1_col4\" class=\"data row1 col4\" >0.268631</td>\n",
       "      <td id=\"T_6a337_row1_col5\" class=\"data row1 col5\" >0.678085</td>\n",
       "      <td id=\"T_6a337_row1_col6\" class=\"data row1 col6\" >0.013549</td>\n",
       "    </tr>\n",
       "    <tr>\n",
       "      <th id=\"T_6a337_level0_row2\" class=\"row_heading level0 row2\" >TIGER GLOBAL MANAGEMENT LLC</th>\n",
       "      <td id=\"T_6a337_row2_col0\" class=\"data row2 col0\" >0.561040</td>\n",
       "      <td id=\"T_6a337_row2_col1\" class=\"data row2 col1\" >0.434308</td>\n",
       "      <td id=\"T_6a337_row2_col2\" class=\"data row2 col2\" >1.000000</td>\n",
       "      <td id=\"T_6a337_row2_col3\" class=\"data row2 col3\" >0.424125</td>\n",
       "      <td id=\"T_6a337_row2_col4\" class=\"data row2 col4\" >0.164114</td>\n",
       "      <td id=\"T_6a337_row2_col5\" class=\"data row2 col5\" >0.507160</td>\n",
       "      <td id=\"T_6a337_row2_col6\" class=\"data row2 col6\" >-0.001505</td>\n",
       "    </tr>\n",
       "    <tr>\n",
       "      <th id=\"T_6a337_level0_row3\" class=\"row_heading level0 row3\" >BERKSHIRE HATHAWAY INC</th>\n",
       "      <td id=\"T_6a337_row3_col0\" class=\"data row3 col0\" >0.754157</td>\n",
       "      <td id=\"T_6a337_row3_col1\" class=\"data row3 col1\" >0.545451</td>\n",
       "      <td id=\"T_6a337_row3_col2\" class=\"data row3 col2\" >0.424125</td>\n",
       "      <td id=\"T_6a337_row3_col3\" class=\"data row3 col3\" >1.000000</td>\n",
       "      <td id=\"T_6a337_row3_col4\" class=\"data row3 col4\" >0.291678</td>\n",
       "      <td id=\"T_6a337_row3_col5\" class=\"data row3 col5\" >0.687756</td>\n",
       "      <td id=\"T_6a337_row3_col6\" class=\"data row3 col6\" >-0.013856</td>\n",
       "    </tr>\n",
       "    <tr>\n",
       "      <th id=\"T_6a337_level0_row4\" class=\"row_heading level0 row4\" >Algo 1</th>\n",
       "      <td id=\"T_6a337_row4_col0\" class=\"data row4 col0\" >0.320901</td>\n",
       "      <td id=\"T_6a337_row4_col1\" class=\"data row4 col1\" >0.268631</td>\n",
       "      <td id=\"T_6a337_row4_col2\" class=\"data row4 col2\" >0.164114</td>\n",
       "      <td id=\"T_6a337_row4_col3\" class=\"data row4 col3\" >0.291678</td>\n",
       "      <td id=\"T_6a337_row4_col4\" class=\"data row4 col4\" >1.000000</td>\n",
       "      <td id=\"T_6a337_row4_col5\" class=\"data row4 col5\" >0.287852</td>\n",
       "      <td id=\"T_6a337_row4_col6\" class=\"data row4 col6\" >-0.033963</td>\n",
       "    </tr>\n",
       "    <tr>\n",
       "      <th id=\"T_6a337_level0_row5\" class=\"row_heading level0 row5\" >Algo 2</th>\n",
       "      <td id=\"T_6a337_row5_col0\" class=\"data row5 col0\" >0.826730</td>\n",
       "      <td id=\"T_6a337_row5_col1\" class=\"data row5 col1\" >0.678085</td>\n",
       "      <td id=\"T_6a337_row5_col2\" class=\"data row5 col2\" >0.507160</td>\n",
       "      <td id=\"T_6a337_row5_col3\" class=\"data row5 col3\" >0.687756</td>\n",
       "      <td id=\"T_6a337_row5_col4\" class=\"data row5 col4\" >0.287852</td>\n",
       "      <td id=\"T_6a337_row5_col5\" class=\"data row5 col5\" >1.000000</td>\n",
       "      <td id=\"T_6a337_row5_col6\" class=\"data row5 col6\" >-0.002192</td>\n",
       "    </tr>\n",
       "    <tr>\n",
       "      <th id=\"T_6a337_level0_row6\" class=\"row_heading level0 row6\" >S&P 500</th>\n",
       "      <td id=\"T_6a337_row6_col0\" class=\"data row6 col0\" >0.000574</td>\n",
       "      <td id=\"T_6a337_row6_col1\" class=\"data row6 col1\" >0.013549</td>\n",
       "      <td id=\"T_6a337_row6_col2\" class=\"data row6 col2\" >-0.001505</td>\n",
       "      <td id=\"T_6a337_row6_col3\" class=\"data row6 col3\" >-0.013856</td>\n",
       "      <td id=\"T_6a337_row6_col4\" class=\"data row6 col4\" >-0.033963</td>\n",
       "      <td id=\"T_6a337_row6_col5\" class=\"data row6 col5\" >-0.002192</td>\n",
       "      <td id=\"T_6a337_row6_col6\" class=\"data row6 col6\" >1.000000</td>\n",
       "    </tr>\n",
       "  </tbody>\n",
       "</table>\n"
      ],
      "text/plain": [
       "<pandas.io.formats.style.Styler at 0x26a1507e908>"
      ]
     },
     "execution_count": 22,
     "metadata": {},
     "output_type": "execute_result"
    }
   ],
   "source": [
    "# Calculate the correlation\n",
    "comb_corr = comb.corr()\n",
    "# Display de correlation matrix\n",
    "comb_corr.style.background_gradient(cmap=\"summer\")"
   ]
  },
  {
   "cell_type": "markdown",
   "metadata": {},
   "source": [
    "### Calculate and Plot Beta for a chosen portfolio and the S&P 500"
   ]
  },
  {
   "cell_type": "code",
   "execution_count": 23,
   "metadata": {},
   "outputs": [
    {
     "data": {
      "text/plain": [
       "<AxesSubplot:xlabel='Date'>"
      ]
     },
     "execution_count": 23,
     "metadata": {},
     "output_type": "execute_result"
    },
    {
     "data": {
      "image/png": "[encoded data removed]",
      "text/plain": [
       "<Figure size 432x288 with 1 Axes>"
      ]
     },
     "metadata": {
      "needs_background": "light"
     },
     "output_type": "display_data"
    }
   ],
   "source": [
    "# Calculate covariance of a single portfolio\n",
    "cvar_b = comb['BERKSHIRE HATHAWAY INC'].rolling(window=60).cov(comb['S&P 500'])\n",
    "# Calculate variance of S&P 500\n",
    "var_5 = comb['S&P 500'].rolling(window=60).var()\n",
    "# Computing beta\n",
    "beta_b = cvar_b/var_5\n",
    "# Plot beta trend\n",
    "beta_b.plot()\n"
   ]
  },
  {
   "cell_type": "markdown",
   "metadata": {},
   "source": [
    "## Rolling Statistics Challenge: Exponentially Weighted Average \n",
    "\n",
    "An alternative way to calculate a rolling window is to take the exponentially weighted moving average. This is like a moving window average, but it assigns greater importance to more recent observations. Try calculating the [`ewm`](https://pandas.pydata.org/pandas-docs/stable/reference/api/pandas.DataFrame.ewm.html) with a 21-day half life for each portfolio, using standard deviation (`std`) as the metric of interest."
   ]
  },
  {
   "cell_type": "code",
   "execution_count": 42,
   "metadata": {},
   "outputs": [
    {
     "data": {
      "text/html": [
       "<div>\n",
       "<style scoped>\n",
       "    .dataframe tbody tr th:only-of-type {\n",
       "        vertical-align: middle;\n",
       "    }\n",
       "\n",
       "    .dataframe tbody tr th {\n",
       "        vertical-align: top;\n",
       "    }\n",
       "\n",
       "    .dataframe thead th {\n",
       "        text-align: right;\n",
       "    }\n",
       "</style>\n",
       "<table border=\"1\" class=\"dataframe\">\n",
       "  <thead>\n",
       "    <tr style=\"text-align: right;\">\n",
       "      <th></th>\n",
       "      <th>SOROS FUND MANAGEMENT LLC</th>\n",
       "      <th>PAULSON &amp; CO.INC.</th>\n",
       "      <th>TIGER GLOBAL MANAGEMENT LLC</th>\n",
       "      <th>BERKSHIRE HATHAWAY INC</th>\n",
       "      <th>Algo 1</th>\n",
       "      <th>Algo 2</th>\n",
       "      <th>S&amp;P 500</th>\n",
       "    </tr>\n",
       "    <tr>\n",
       "      <th>Date</th>\n",
       "      <th></th>\n",
       "      <th></th>\n",
       "      <th></th>\n",
       "      <th></th>\n",
       "      <th></th>\n",
       "      <th></th>\n",
       "      <th></th>\n",
       "    </tr>\n",
       "  </thead>\n",
       "  <tbody>\n",
       "    <tr>\n",
       "      <th>2015-03-03</th>\n",
       "      <td>NaN</td>\n",
       "      <td>NaN</td>\n",
       "      <td>NaN</td>\n",
       "      <td>NaN</td>\n",
       "      <td>NaN</td>\n",
       "      <td>NaN</td>\n",
       "      <td>NaN</td>\n",
       "    </tr>\n",
       "    <tr>\n",
       "      <th>2015-03-04</th>\n",
       "      <td>0.002472</td>\n",
       "      <td>0.005814</td>\n",
       "      <td>0.001441</td>\n",
       "      <td>0.007624</td>\n",
       "      <td>0.004700</td>\n",
       "      <td>0.002380</td>\n",
       "      <td>0.003962</td>\n",
       "    </tr>\n",
       "    <tr>\n",
       "      <th>2015-03-05</th>\n",
       "      <td>0.002677</td>\n",
       "      <td>0.004968</td>\n",
       "      <td>0.002478</td>\n",
       "      <td>0.007020</td>\n",
       "      <td>0.004162</td>\n",
       "      <td>0.002662</td>\n",
       "      <td>0.007961</td>\n",
       "    </tr>\n",
       "    <tr>\n",
       "      <th>2015-03-06</th>\n",
       "      <td>0.005349</td>\n",
       "      <td>0.004615</td>\n",
       "      <td>0.004665</td>\n",
       "      <td>0.009387</td>\n",
       "      <td>0.003419</td>\n",
       "      <td>0.007166</td>\n",
       "      <td>0.008178</td>\n",
       "    </tr>\n",
       "    <tr>\n",
       "      <th>2015-03-09</th>\n",
       "      <td>0.004638</td>\n",
       "      <td>0.004471</td>\n",
       "      <td>0.005496</td>\n",
       "      <td>0.008066</td>\n",
       "      <td>0.002999</td>\n",
       "      <td>0.006290</td>\n",
       "      <td>0.009475</td>\n",
       "    </tr>\n",
       "  </tbody>\n",
       "</table>\n",
       "</div>"
      ],
      "text/plain": [
       "            SOROS FUND MANAGEMENT LLC  PAULSON & CO.INC.   \\\n",
       "Date                                                        \n",
       "2015-03-03                        NaN                 NaN   \n",
       "2015-03-04                   0.002472            0.005814   \n",
       "2015-03-05                   0.002677            0.004968   \n",
       "2015-03-06                   0.005349            0.004615   \n",
       "2015-03-09                   0.004638            0.004471   \n",
       "\n",
       "            TIGER GLOBAL MANAGEMENT LLC  BERKSHIRE HATHAWAY INC    Algo 1  \\\n",
       "Date                                                                        \n",
       "2015-03-03                          NaN                     NaN       NaN   \n",
       "2015-03-04                     0.001441                0.007624  0.004700   \n",
       "2015-03-05                     0.002478                0.007020  0.004162   \n",
       "2015-03-06                     0.004665                0.009387  0.003419   \n",
       "2015-03-09                     0.005496                0.008066  0.002999   \n",
       "\n",
       "              Algo 2   S&P 500  \n",
       "Date                            \n",
       "2015-03-03       NaN       NaN  \n",
       "2015-03-04  0.002380  0.003962  \n",
       "2015-03-05  0.002662  0.007961  \n",
       "2015-03-06  0.007166  0.008178  \n",
       "2015-03-09  0.006290  0.009475  "
      ]
     },
     "execution_count": 42,
     "metadata": {},
     "output_type": "execute_result"
    }
   ],
   "source": [
    "# Use `ewm` to calculate the rolling window\n",
    "comb.ewm(halflife=21).std().head()\n"
   ]
  },
  {
   "cell_type": "markdown",
   "metadata": {},
   "source": [
    "---"
   ]
  },
  {
   "cell_type": "markdown",
   "metadata": {},
   "source": [
    "# Sharpe Ratios\n",
    "In reality, investment managers and thier institutional investors look at the ratio of return-to-risk, and not just returns alone. After all, if you could invest in one of two portfolios, and each offered the same 10% return, yet one offered lower risk, you'd take that one, right?\n",
    "\n",
    "### Using the daily returns, calculate and visualize the Sharpe ratios using a bar plot"
   ]
  },
  {
   "cell_type": "code",
   "execution_count": 25,
   "metadata": {},
   "outputs": [
    {
     "data": {
      "text/plain": [
       "SOROS FUND MANAGEMENT LLC      0.342894\n",
       "PAULSON & CO.INC.             -0.491422\n",
       "TIGER GLOBAL MANAGEMENT LLC   -0.130186\n",
       "BERKSHIRE HATHAWAY INC         0.606743\n",
       "Algo 1                         1.369589\n",
       "Algo 2                         0.484334\n",
       "S&P 500                       -0.518582\n",
       "dtype: float64"
      ]
     },
     "execution_count": 25,
     "metadata": {},
     "output_type": "execute_result"
    }
   ],
   "source": [
    "# Annualized Sharpe Ratios\n",
    "sr = (comb.mean() * 252) / (comb.std() * np.sqrt(252))\n",
    "sr"
   ]
  },
  {
   "cell_type": "code",
   "execution_count": 26,
   "metadata": {},
   "outputs": [
    {
     "data": {
      "text/plain": [
       "<AxesSubplot:>"
      ]
     },
     "execution_count": 26,
     "metadata": {},
     "output_type": "execute_result"
    },
    {
     "data": {
      "image/png": "[encoded data removed]",
      "text/plain": [
       "<Figure size 432x288 with 1 Axes>"
      ]
     },
     "metadata": {
      "needs_background": "light"
     },
     "output_type": "display_data"
    }
   ],
   "source": [
    "# Visualize the sharpe ratios as a bar plot\n",
    "sr.plot(kind='bar')"
   ]
  },
  {
   "cell_type": "markdown",
   "metadata": {
    "tags": []
   },
   "source": [
    "### Determine whether the algorithmic strategies outperform both the market (S&P 500) and the whales portfolios.\n",
    "\n",
    "While algo1 outperforms everything, algo2 is only sligthly better than Soros Fund Management and comes just behhind Berkshire Hathaway"
   ]
  },
  {
   "cell_type": "markdown",
   "metadata": {},
   "source": [
    "---"
   ]
  },
  {
   "cell_type": "markdown",
   "metadata": {},
   "source": [
    "# Create Custom Portfolio\n",
    "\n",
    "In this section, you will build your own portfolio of stocks, calculate the returns, and compare the results to the Whale Portfolios and the S&P 500. \n",
    "\n",
    "1. Choose 3-5 custom stocks with at last 1 year's worth of historic prices and create a DataFrame of the closing prices and dates for each stock.\n",
    "2. Calculate the weighted returns for the portfolio assuming an equal number of shares for each stock\n",
    "3. Join your portfolio returns to the DataFrame that contains all of the portfolio returns\n",
    "4. Re-run the performance and risk analysis with your portfolio to see how it compares to the others\n",
    "5. Include correlation analysis to determine which stocks (if any) are correlated"
   ]
  },
  {
   "cell_type": "markdown",
   "metadata": {},
   "source": [
    "## Choose 3-5 custom stocks with at last 1 year's worth of historic prices and create a DataFrame of the closing prices and dates for each stock."
   ]
  },
  {
   "cell_type": "code",
   "execution_count": 27,
   "metadata": {},
   "outputs": [
    {
     "data": {
      "text/html": [
       "<div>\n",
       "<style scoped>\n",
       "    .dataframe tbody tr th:only-of-type {\n",
       "        vertical-align: middle;\n",
       "    }\n",
       "\n",
       "    .dataframe tbody tr th {\n",
       "        vertical-align: top;\n",
       "    }\n",
       "\n",
       "    .dataframe thead th {\n",
       "        text-align: right;\n",
       "    }\n",
       "</style>\n",
       "<table border=\"1\" class=\"dataframe\">\n",
       "  <thead>\n",
       "    <tr style=\"text-align: right;\">\n",
       "      <th></th>\n",
       "      <th>Date</th>\n",
       "      <th>AMZN</th>\n",
       "    </tr>\n",
       "  </thead>\n",
       "  <tbody>\n",
       "    <tr>\n",
       "      <th>0</th>\n",
       "      <td>10/1/2012</td>\n",
       "      <td>12.60</td>\n",
       "    </tr>\n",
       "    <tr>\n",
       "      <th>1</th>\n",
       "      <td>10/2/2012</td>\n",
       "      <td>12.53</td>\n",
       "    </tr>\n",
       "    <tr>\n",
       "      <th>2</th>\n",
       "      <td>10/3/2012</td>\n",
       "      <td>12.80</td>\n",
       "    </tr>\n",
       "    <tr>\n",
       "      <th>3</th>\n",
       "      <td>10/4/2012</td>\n",
       "      <td>13.02</td>\n",
       "    </tr>\n",
       "    <tr>\n",
       "      <th>4</th>\n",
       "      <td>10/5/2012</td>\n",
       "      <td>12.93</td>\n",
       "    </tr>\n",
       "  </tbody>\n",
       "</table>\n",
       "</div>"
      ],
      "text/plain": [
       "         Date   AMZN\n",
       "0  10/1/2012   12.60\n",
       "1  10/2/2012   12.53\n",
       "2  10/3/2012   12.80\n",
       "3  10/4/2012   13.02\n",
       "4  10/5/2012   12.93"
      ]
     },
     "execution_count": 27,
     "metadata": {},
     "output_type": "execute_result"
    }
   ],
   "source": [
    "# Reading data from 1st stock\n",
    "amzn_path = Path('Portfolio-Data/amazon_googlefi.csv')\n",
    "amzn = pd.read_csv(amzn_path)\n",
    "\n",
    "amzn['Date'] = amzn['Date'].str.replace('16', '', regex=True)\n",
    "amzn['Date'] = amzn['Date'].str.replace(':00', '', regex=True)\n",
    "\n",
    "amzn = amzn.rename(columns = {'Close':'AMZN'})\n",
    "\n",
    "amzn.head()"
   ]
  },
  {
   "cell_type": "code",
   "execution_count": 28,
   "metadata": {},
   "outputs": [
    {
     "data": {
      "text/html": [
       "<div>\n",
       "<style scoped>\n",
       "    .dataframe tbody tr th:only-of-type {\n",
       "        vertical-align: middle;\n",
       "    }\n",
       "\n",
       "    .dataframe tbody tr th {\n",
       "        vertical-align: top;\n",
       "    }\n",
       "\n",
       "    .dataframe thead th {\n",
       "        text-align: right;\n",
       "    }\n",
       "</style>\n",
       "<table border=\"1\" class=\"dataframe\">\n",
       "  <thead>\n",
       "    <tr style=\"text-align: right;\">\n",
       "      <th></th>\n",
       "      <th>Date2</th>\n",
       "      <th>AT&amp;T</th>\n",
       "    </tr>\n",
       "  </thead>\n",
       "  <tbody>\n",
       "    <tr>\n",
       "      <th>0</th>\n",
       "      <td>10/1/2012</td>\n",
       "      <td>28.49</td>\n",
       "    </tr>\n",
       "    <tr>\n",
       "      <th>1</th>\n",
       "      <td>10/2/2012</td>\n",
       "      <td>28.53</td>\n",
       "    </tr>\n",
       "    <tr>\n",
       "      <th>2</th>\n",
       "      <td>10/3/2012</td>\n",
       "      <td>28.81</td>\n",
       "    </tr>\n",
       "    <tr>\n",
       "      <th>3</th>\n",
       "      <td>10/4/2012</td>\n",
       "      <td>28.93</td>\n",
       "    </tr>\n",
       "    <tr>\n",
       "      <th>4</th>\n",
       "      <td>10/5/2012</td>\n",
       "      <td>28.57</td>\n",
       "    </tr>\n",
       "  </tbody>\n",
       "</table>\n",
       "</div>"
      ],
      "text/plain": [
       "        Date2   AT&T\n",
       "0  10/1/2012   28.49\n",
       "1  10/2/2012   28.53\n",
       "2  10/3/2012   28.81\n",
       "3  10/4/2012   28.93\n",
       "4  10/5/2012   28.57"
      ]
     },
     "execution_count": 28,
     "metadata": {},
     "output_type": "execute_result"
    }
   ],
   "source": [
    "# Reading data from 2nd stock\n",
    "att_path = Path('Portfolio-Data/at&t_googlefi.csv')\n",
    "att = pd.read_csv(att_path)\n",
    "\n",
    "att['Date'] = att['Date'].str.replace('16', '', regex=True)\n",
    "att['Date'] = att['Date'].str.replace(':00', '', regex=True)\n",
    "\n",
    "att = att.rename(columns = {'Close':'AT&T'})\n",
    "att = att.rename(columns = {'Date':'Date2'})\n",
    "\n",
    "att.head()"
   ]
  },
  {
   "cell_type": "code",
   "execution_count": 29,
   "metadata": {},
   "outputs": [
    {
     "data": {
      "text/html": [
       "<div>\n",
       "<style scoped>\n",
       "    .dataframe tbody tr th:only-of-type {\n",
       "        vertical-align: middle;\n",
       "    }\n",
       "\n",
       "    .dataframe tbody tr th {\n",
       "        vertical-align: top;\n",
       "    }\n",
       "\n",
       "    .dataframe thead th {\n",
       "        text-align: right;\n",
       "    }\n",
       "</style>\n",
       "<table border=\"1\" class=\"dataframe\">\n",
       "  <thead>\n",
       "    <tr style=\"text-align: right;\">\n",
       "      <th></th>\n",
       "      <th>Date3</th>\n",
       "      <th>MSFT</th>\n",
       "    </tr>\n",
       "  </thead>\n",
       "  <tbody>\n",
       "    <tr>\n",
       "      <th>0</th>\n",
       "      <td>10/1/2012</td>\n",
       "      <td>29.49</td>\n",
       "    </tr>\n",
       "    <tr>\n",
       "      <th>1</th>\n",
       "      <td>10/2/2012</td>\n",
       "      <td>29.66</td>\n",
       "    </tr>\n",
       "    <tr>\n",
       "      <th>2</th>\n",
       "      <td>10/3/2012</td>\n",
       "      <td>29.86</td>\n",
       "    </tr>\n",
       "    <tr>\n",
       "      <th>3</th>\n",
       "      <td>10/4/2012</td>\n",
       "      <td>30.03</td>\n",
       "    </tr>\n",
       "    <tr>\n",
       "      <th>4</th>\n",
       "      <td>10/5/2012</td>\n",
       "      <td>29.85</td>\n",
       "    </tr>\n",
       "  </tbody>\n",
       "</table>\n",
       "</div>"
      ],
      "text/plain": [
       "        Date3   MSFT\n",
       "0  10/1/2012   29.49\n",
       "1  10/2/2012   29.66\n",
       "2  10/3/2012   29.86\n",
       "3  10/4/2012   30.03\n",
       "4  10/5/2012   29.85"
      ]
     },
     "execution_count": 29,
     "metadata": {},
     "output_type": "execute_result"
    }
   ],
   "source": [
    "# Reading data from 3rd stock\n",
    "msft_path = Path('Portfolio-Data/microsoft_googlefi.csv')\n",
    "msft = pd.read_csv(msft_path)\n",
    "\n",
    "msft['Date'] = msft['Date'].str.replace('16', '', regex=True)\n",
    "msft['Date'] = msft['Date'].str.replace(':00', '', regex=True)\n",
    "\n",
    "msft = msft.rename(columns = {'Close':'MSFT'})\n",
    "msft = msft.rename(columns = {'Date':'Date3'})\n",
    "\n",
    "msft.head()\n",
    "\n"
   ]
  },
  {
   "cell_type": "code",
   "execution_count": 30,
   "metadata": {},
   "outputs": [
    {
     "data": {
      "text/html": [
       "<div>\n",
       "<style scoped>\n",
       "    .dataframe tbody tr th:only-of-type {\n",
       "        vertical-align: middle;\n",
       "    }\n",
       "\n",
       "    .dataframe tbody tr th {\n",
       "        vertical-align: top;\n",
       "    }\n",
       "\n",
       "    .dataframe thead th {\n",
       "        text-align: right;\n",
       "    }\n",
       "</style>\n",
       "<table border=\"1\" class=\"dataframe\">\n",
       "  <thead>\n",
       "    <tr style=\"text-align: right;\">\n",
       "      <th></th>\n",
       "      <th>Date</th>\n",
       "      <th>AMZN</th>\n",
       "      <th>Date2</th>\n",
       "      <th>AT&amp;T</th>\n",
       "      <th>Date3</th>\n",
       "      <th>MSFT</th>\n",
       "    </tr>\n",
       "  </thead>\n",
       "  <tbody>\n",
       "    <tr>\n",
       "      <th>0</th>\n",
       "      <td>10/1/2012</td>\n",
       "      <td>12.60</td>\n",
       "      <td>10/1/2012</td>\n",
       "      <td>28.49</td>\n",
       "      <td>10/1/2012</td>\n",
       "      <td>29.49</td>\n",
       "    </tr>\n",
       "    <tr>\n",
       "      <th>1</th>\n",
       "      <td>10/2/2012</td>\n",
       "      <td>12.53</td>\n",
       "      <td>10/2/2012</td>\n",
       "      <td>28.53</td>\n",
       "      <td>10/2/2012</td>\n",
       "      <td>29.66</td>\n",
       "    </tr>\n",
       "    <tr>\n",
       "      <th>2</th>\n",
       "      <td>10/3/2012</td>\n",
       "      <td>12.80</td>\n",
       "      <td>10/3/2012</td>\n",
       "      <td>28.81</td>\n",
       "      <td>10/3/2012</td>\n",
       "      <td>29.86</td>\n",
       "    </tr>\n",
       "    <tr>\n",
       "      <th>3</th>\n",
       "      <td>10/4/2012</td>\n",
       "      <td>13.02</td>\n",
       "      <td>10/4/2012</td>\n",
       "      <td>28.93</td>\n",
       "      <td>10/4/2012</td>\n",
       "      <td>30.03</td>\n",
       "    </tr>\n",
       "    <tr>\n",
       "      <th>4</th>\n",
       "      <td>10/5/2012</td>\n",
       "      <td>12.93</td>\n",
       "      <td>10/5/2012</td>\n",
       "      <td>28.57</td>\n",
       "      <td>10/5/2012</td>\n",
       "      <td>29.85</td>\n",
       "    </tr>\n",
       "  </tbody>\n",
       "</table>\n",
       "</div>"
      ],
      "text/plain": [
       "         Date   AMZN       Date2   AT&T       Date3   MSFT\n",
       "0  10/1/2012   12.60  10/1/2012   28.49  10/1/2012   29.49\n",
       "1  10/2/2012   12.53  10/2/2012   28.53  10/2/2012   29.66\n",
       "2  10/3/2012   12.80  10/3/2012   28.81  10/3/2012   29.86\n",
       "3  10/4/2012   13.02  10/4/2012   28.93  10/4/2012   30.03\n",
       "4  10/5/2012   12.93  10/5/2012   28.57  10/5/2012   29.85"
      ]
     },
     "execution_count": 30,
     "metadata": {},
     "output_type": "execute_result"
    }
   ],
   "source": [
    "# Combine all stocks in a single DataFrame\n",
    "\n",
    "\n",
    "comb2 = pd.concat([amzn, att, msft], axis=1, join='inner')\n",
    "comb2.head()\n",
    "\n",
    "#comb2.set_index(pd.to_datetime(comb2['Date'], errors='coerce', infer_datetime_format=True), inplace=True)\n",
    "#comb2.dropna()"
   ]
  },
  {
   "cell_type": "code",
   "execution_count": 31,
   "metadata": {},
   "outputs": [
    {
     "data": {
      "text/html": [
       "<div>\n",
       "<style scoped>\n",
       "    .dataframe tbody tr th:only-of-type {\n",
       "        vertical-align: middle;\n",
       "    }\n",
       "\n",
       "    .dataframe tbody tr th {\n",
       "        vertical-align: top;\n",
       "    }\n",
       "\n",
       "    .dataframe thead th {\n",
       "        text-align: right;\n",
       "    }\n",
       "</style>\n",
       "<table border=\"1\" class=\"dataframe\">\n",
       "  <thead>\n",
       "    <tr style=\"text-align: right;\">\n",
       "      <th></th>\n",
       "      <th>AMZN</th>\n",
       "      <th>AT&amp;T</th>\n",
       "      <th>MSFT</th>\n",
       "    </tr>\n",
       "    <tr>\n",
       "      <th>Date</th>\n",
       "      <th></th>\n",
       "      <th></th>\n",
       "      <th></th>\n",
       "    </tr>\n",
       "  </thead>\n",
       "  <tbody>\n",
       "    <tr>\n",
       "      <th>2012-10-01</th>\n",
       "      <td>12.60</td>\n",
       "      <td>28.49</td>\n",
       "      <td>29.49</td>\n",
       "    </tr>\n",
       "    <tr>\n",
       "      <th>2012-10-02</th>\n",
       "      <td>12.53</td>\n",
       "      <td>28.53</td>\n",
       "      <td>29.66</td>\n",
       "    </tr>\n",
       "    <tr>\n",
       "      <th>2012-10-03</th>\n",
       "      <td>12.80</td>\n",
       "      <td>28.81</td>\n",
       "      <td>29.86</td>\n",
       "    </tr>\n",
       "    <tr>\n",
       "      <th>2012-10-04</th>\n",
       "      <td>13.02</td>\n",
       "      <td>28.93</td>\n",
       "      <td>30.03</td>\n",
       "    </tr>\n",
       "    <tr>\n",
       "      <th>2012-10-05</th>\n",
       "      <td>12.93</td>\n",
       "      <td>28.57</td>\n",
       "      <td>29.85</td>\n",
       "    </tr>\n",
       "  </tbody>\n",
       "</table>\n",
       "</div>"
      ],
      "text/plain": [
       "             AMZN   AT&T   MSFT\n",
       "Date                           \n",
       "2012-10-01  12.60  28.49  29.49\n",
       "2012-10-02  12.53  28.53  29.66\n",
       "2012-10-03  12.80  28.81  29.86\n",
       "2012-10-04  13.02  28.93  30.03\n",
       "2012-10-05  12.93  28.57  29.85"
      ]
     },
     "execution_count": 31,
     "metadata": {},
     "output_type": "execute_result"
    }
   ],
   "source": [
    "# Reorganize portfolio data by having a column per symbol\n",
    "\n",
    "comb2.set_index(pd.to_datetime(comb2['Date'], errors='coerce', infer_datetime_format=True), inplace=True)\n",
    "comb2.drop(columns=['Date'], inplace=True)\n",
    "comb2.drop(columns=['Date2'], inplace=True)\n",
    "comb2.drop(columns=['Date3'], inplace=True)\n",
    "comb2.dropna()\n",
    "comb2.head()"
   ]
  },
  {
   "cell_type": "code",
   "execution_count": 43,
   "metadata": {},
   "outputs": [
    {
     "data": {
      "text/html": [
       "<div>\n",
       "<style scoped>\n",
       "    .dataframe tbody tr th:only-of-type {\n",
       "        vertical-align: middle;\n",
       "    }\n",
       "\n",
       "    .dataframe tbody tr th {\n",
       "        vertical-align: top;\n",
       "    }\n",
       "\n",
       "    .dataframe thead th {\n",
       "        text-align: right;\n",
       "    }\n",
       "</style>\n",
       "<table border=\"1\" class=\"dataframe\">\n",
       "  <thead>\n",
       "    <tr style=\"text-align: right;\">\n",
       "      <th></th>\n",
       "      <th>AMZN</th>\n",
       "      <th>AT&amp;T</th>\n",
       "      <th>MSFT</th>\n",
       "    </tr>\n",
       "    <tr>\n",
       "      <th>Date</th>\n",
       "      <th></th>\n",
       "      <th></th>\n",
       "      <th></th>\n",
       "    </tr>\n",
       "  </thead>\n",
       "  <tbody>\n",
       "    <tr>\n",
       "      <th>2012-10-02</th>\n",
       "      <td>-0.005556</td>\n",
       "      <td>0.001404</td>\n",
       "      <td>0.005765</td>\n",
       "    </tr>\n",
       "    <tr>\n",
       "      <th>2012-10-03</th>\n",
       "      <td>0.021548</td>\n",
       "      <td>0.009814</td>\n",
       "      <td>0.006743</td>\n",
       "    </tr>\n",
       "    <tr>\n",
       "      <th>2012-10-04</th>\n",
       "      <td>0.017187</td>\n",
       "      <td>0.004165</td>\n",
       "      <td>0.005693</td>\n",
       "    </tr>\n",
       "    <tr>\n",
       "      <th>2012-10-05</th>\n",
       "      <td>-0.006912</td>\n",
       "      <td>-0.012444</td>\n",
       "      <td>-0.005994</td>\n",
       "    </tr>\n",
       "    <tr>\n",
       "      <th>2012-10-08</th>\n",
       "      <td>0.001547</td>\n",
       "      <td>-0.005250</td>\n",
       "      <td>-0.002345</td>\n",
       "    </tr>\n",
       "  </tbody>\n",
       "</table>\n",
       "</div>"
      ],
      "text/plain": [
       "                AMZN      AT&T      MSFT\n",
       "Date                                    \n",
       "2012-10-02 -0.005556  0.001404  0.005765\n",
       "2012-10-03  0.021548  0.009814  0.006743\n",
       "2012-10-04  0.017187  0.004165  0.005693\n",
       "2012-10-05 -0.006912 -0.012444 -0.005994\n",
       "2012-10-08  0.001547 -0.005250 -0.002345"
      ]
     },
     "execution_count": 43,
     "metadata": {},
     "output_type": "execute_result"
    }
   ],
   "source": [
    "# Calculate daily returns\n",
    "comb2_dr = comb2.pct_change()\n",
    "# Drop NAs\n",
    "comb2_dr2 = comb2_dr.dropna()\n",
    "# Display sample data\n",
    "comb2_dr2.head()"
   ]
  },
  {
   "cell_type": "markdown",
   "metadata": {},
   "source": [
    "## Calculate the weighted returns for the portfolio assuming an equal number of shares for each stock"
   ]
  },
  {
   "cell_type": "code",
   "execution_count": 33,
   "metadata": {},
   "outputs": [
    {
     "data": {
      "text/plain": [
       "Date\n",
       "2012-10-01         NaN\n",
       "2012-10-02    0.000538\n",
       "2012-10-03    0.012702\n",
       "2012-10-04    0.009015\n",
       "2012-10-05   -0.008450\n",
       "dtype: float64"
      ]
     },
     "execution_count": 33,
     "metadata": {},
     "output_type": "execute_result"
    }
   ],
   "source": [
    "# Set weights\n",
    "weights = [1/3, 1/3, 1/3]\n",
    "\n",
    "# Calculate portfolio return\n",
    "wdr = comb2_dr.dot(weights)\n",
    "# Display sample data\n",
    "wdr.head()"
   ]
  },
  {
   "cell_type": "markdown",
   "metadata": {},
   "source": [
    "## Join your portfolio returns to the DataFrame that contains all of the portfolio returns"
   ]
  },
  {
   "cell_type": "code",
   "execution_count": 34,
   "metadata": {},
   "outputs": [
    {
     "data": {
      "text/html": [
       "<div>\n",
       "<style scoped>\n",
       "    .dataframe tbody tr th:only-of-type {\n",
       "        vertical-align: middle;\n",
       "    }\n",
       "\n",
       "    .dataframe tbody tr th {\n",
       "        vertical-align: top;\n",
       "    }\n",
       "\n",
       "    .dataframe thead th {\n",
       "        text-align: right;\n",
       "    }\n",
       "</style>\n",
       "<table border=\"1\" class=\"dataframe\">\n",
       "  <thead>\n",
       "    <tr style=\"text-align: right;\">\n",
       "      <th></th>\n",
       "      <th>SOROS FUND MANAGEMENT LLC</th>\n",
       "      <th>PAULSON &amp; CO.INC.</th>\n",
       "      <th>TIGER GLOBAL MANAGEMENT LLC</th>\n",
       "      <th>BERKSHIRE HATHAWAY INC</th>\n",
       "      <th>Algo 1</th>\n",
       "      <th>Algo 2</th>\n",
       "      <th>S&amp;P 500</th>\n",
       "      <th>AMZN</th>\n",
       "      <th>AT&amp;T</th>\n",
       "      <th>MSFT</th>\n",
       "    </tr>\n",
       "    <tr>\n",
       "      <th>Date</th>\n",
       "      <th></th>\n",
       "      <th></th>\n",
       "      <th></th>\n",
       "      <th></th>\n",
       "      <th></th>\n",
       "      <th></th>\n",
       "      <th></th>\n",
       "      <th></th>\n",
       "      <th></th>\n",
       "      <th></th>\n",
       "    </tr>\n",
       "  </thead>\n",
       "  <tbody>\n",
       "    <tr>\n",
       "      <th>2015-03-03</th>\n",
       "      <td>-0.001266</td>\n",
       "      <td>-0.004981</td>\n",
       "      <td>-0.000496</td>\n",
       "      <td>-0.006569</td>\n",
       "      <td>-0.001942</td>\n",
       "      <td>-0.000949</td>\n",
       "      <td>0.004408</td>\n",
       "      <td>-0.002593</td>\n",
       "      <td>-0.006503</td>\n",
       "      <td>-0.013674</td>\n",
       "    </tr>\n",
       "    <tr>\n",
       "      <th>2015-03-04</th>\n",
       "      <td>0.002230</td>\n",
       "      <td>0.003241</td>\n",
       "      <td>-0.002534</td>\n",
       "      <td>0.004213</td>\n",
       "      <td>-0.008589</td>\n",
       "      <td>0.002416</td>\n",
       "      <td>-0.001195</td>\n",
       "      <td>-0.004680</td>\n",
       "      <td>-0.011937</td>\n",
       "      <td>-0.005083</td>\n",
       "    </tr>\n",
       "    <tr>\n",
       "      <th>2015-03-05</th>\n",
       "      <td>0.004016</td>\n",
       "      <td>0.004076</td>\n",
       "      <td>0.002355</td>\n",
       "      <td>0.006726</td>\n",
       "      <td>-0.000955</td>\n",
       "      <td>0.004323</td>\n",
       "      <td>0.014378</td>\n",
       "      <td>0.013062</td>\n",
       "      <td>0.000000</td>\n",
       "      <td>0.001161</td>\n",
       "    </tr>\n",
       "    <tr>\n",
       "      <th>2015-03-06</th>\n",
       "      <td>-0.007905</td>\n",
       "      <td>-0.003574</td>\n",
       "      <td>-0.008481</td>\n",
       "      <td>-0.013098</td>\n",
       "      <td>-0.004957</td>\n",
       "      <td>-0.011460</td>\n",
       "      <td>-0.003929</td>\n",
       "      <td>-0.020113</td>\n",
       "      <td>-0.015199</td>\n",
       "      <td>-0.017397</td>\n",
       "    </tr>\n",
       "    <tr>\n",
       "      <th>2015-03-09</th>\n",
       "      <td>0.000582</td>\n",
       "      <td>0.004225</td>\n",
       "      <td>0.005843</td>\n",
       "      <td>-0.001652</td>\n",
       "      <td>-0.005447</td>\n",
       "      <td>0.001303</td>\n",
       "      <td>0.017254</td>\n",
       "      <td>-0.003684</td>\n",
       "      <td>-0.003957</td>\n",
       "      <td>0.011568</td>\n",
       "    </tr>\n",
       "  </tbody>\n",
       "</table>\n",
       "</div>"
      ],
      "text/plain": [
       "            SOROS FUND MANAGEMENT LLC  PAULSON & CO.INC.   \\\n",
       "Date                                                        \n",
       "2015-03-03                  -0.001266           -0.004981   \n",
       "2015-03-04                   0.002230            0.003241   \n",
       "2015-03-05                   0.004016            0.004076   \n",
       "2015-03-06                  -0.007905           -0.003574   \n",
       "2015-03-09                   0.000582            0.004225   \n",
       "\n",
       "            TIGER GLOBAL MANAGEMENT LLC  BERKSHIRE HATHAWAY INC    Algo 1  \\\n",
       "Date                                                                        \n",
       "2015-03-03                    -0.000496               -0.006569 -0.001942   \n",
       "2015-03-04                    -0.002534                0.004213 -0.008589   \n",
       "2015-03-05                     0.002355                0.006726 -0.000955   \n",
       "2015-03-06                    -0.008481               -0.013098 -0.004957   \n",
       "2015-03-09                     0.005843               -0.001652 -0.005447   \n",
       "\n",
       "              Algo 2   S&P 500      AMZN      AT&T      MSFT  \n",
       "Date                                                          \n",
       "2015-03-03 -0.000949  0.004408 -0.002593 -0.006503 -0.013674  \n",
       "2015-03-04  0.002416 -0.001195 -0.004680 -0.011937 -0.005083  \n",
       "2015-03-05  0.004323  0.014378  0.013062  0.000000  0.001161  \n",
       "2015-03-06 -0.011460 -0.003929 -0.020113 -0.015199 -0.017397  \n",
       "2015-03-09  0.001303  0.017254 -0.003684 -0.003957  0.011568  "
      ]
     },
     "execution_count": 34,
     "metadata": {},
     "output_type": "execute_result"
    }
   ],
   "source": [
    "# Join your returns DataFrame to the original returns DataFrame\n",
    "comb3 = comb.join(comb2_dr2)\n",
    "comb3.head()"
   ]
  },
  {
   "cell_type": "code",
   "execution_count": 35,
   "metadata": {},
   "outputs": [
    {
     "data": {
      "text/html": [
       "<div>\n",
       "<style scoped>\n",
       "    .dataframe tbody tr th:only-of-type {\n",
       "        vertical-align: middle;\n",
       "    }\n",
       "\n",
       "    .dataframe tbody tr th {\n",
       "        vertical-align: top;\n",
       "    }\n",
       "\n",
       "    .dataframe thead th {\n",
       "        text-align: right;\n",
       "    }\n",
       "</style>\n",
       "<table border=\"1\" class=\"dataframe\">\n",
       "  <thead>\n",
       "    <tr style=\"text-align: right;\">\n",
       "      <th></th>\n",
       "      <th>SOROS FUND MANAGEMENT LLC</th>\n",
       "      <th>PAULSON &amp; CO.INC.</th>\n",
       "      <th>TIGER GLOBAL MANAGEMENT LLC</th>\n",
       "      <th>BERKSHIRE HATHAWAY INC</th>\n",
       "      <th>Algo 1</th>\n",
       "      <th>Algo 2</th>\n",
       "      <th>S&amp;P 500</th>\n",
       "      <th>AMZN</th>\n",
       "      <th>AT&amp;T</th>\n",
       "      <th>MSFT</th>\n",
       "    </tr>\n",
       "    <tr>\n",
       "      <th>Date</th>\n",
       "      <th></th>\n",
       "      <th></th>\n",
       "      <th></th>\n",
       "      <th></th>\n",
       "      <th></th>\n",
       "      <th></th>\n",
       "      <th></th>\n",
       "      <th></th>\n",
       "      <th></th>\n",
       "      <th></th>\n",
       "    </tr>\n",
       "  </thead>\n",
       "  <tbody>\n",
       "    <tr>\n",
       "      <th>2015-03-03</th>\n",
       "      <td>-0.001266</td>\n",
       "      <td>-0.004981</td>\n",
       "      <td>-0.000496</td>\n",
       "      <td>-0.006569</td>\n",
       "      <td>-0.001942</td>\n",
       "      <td>-0.000949</td>\n",
       "      <td>0.004408</td>\n",
       "      <td>-0.002593</td>\n",
       "      <td>-0.006503</td>\n",
       "      <td>-0.013674</td>\n",
       "    </tr>\n",
       "    <tr>\n",
       "      <th>2015-03-04</th>\n",
       "      <td>0.002230</td>\n",
       "      <td>0.003241</td>\n",
       "      <td>-0.002534</td>\n",
       "      <td>0.004213</td>\n",
       "      <td>-0.008589</td>\n",
       "      <td>0.002416</td>\n",
       "      <td>-0.001195</td>\n",
       "      <td>-0.004680</td>\n",
       "      <td>-0.011937</td>\n",
       "      <td>-0.005083</td>\n",
       "    </tr>\n",
       "    <tr>\n",
       "      <th>2015-03-05</th>\n",
       "      <td>0.004016</td>\n",
       "      <td>0.004076</td>\n",
       "      <td>0.002355</td>\n",
       "      <td>0.006726</td>\n",
       "      <td>-0.000955</td>\n",
       "      <td>0.004323</td>\n",
       "      <td>0.014378</td>\n",
       "      <td>0.013062</td>\n",
       "      <td>0.000000</td>\n",
       "      <td>0.001161</td>\n",
       "    </tr>\n",
       "    <tr>\n",
       "      <th>2015-03-06</th>\n",
       "      <td>-0.007905</td>\n",
       "      <td>-0.003574</td>\n",
       "      <td>-0.008481</td>\n",
       "      <td>-0.013098</td>\n",
       "      <td>-0.004957</td>\n",
       "      <td>-0.011460</td>\n",
       "      <td>-0.003929</td>\n",
       "      <td>-0.020113</td>\n",
       "      <td>-0.015199</td>\n",
       "      <td>-0.017397</td>\n",
       "    </tr>\n",
       "    <tr>\n",
       "      <th>2015-03-09</th>\n",
       "      <td>0.000582</td>\n",
       "      <td>0.004225</td>\n",
       "      <td>0.005843</td>\n",
       "      <td>-0.001652</td>\n",
       "      <td>-0.005447</td>\n",
       "      <td>0.001303</td>\n",
       "      <td>0.017254</td>\n",
       "      <td>-0.003684</td>\n",
       "      <td>-0.003957</td>\n",
       "      <td>0.011568</td>\n",
       "    </tr>\n",
       "  </tbody>\n",
       "</table>\n",
       "</div>"
      ],
      "text/plain": [
       "            SOROS FUND MANAGEMENT LLC  PAULSON & CO.INC.   \\\n",
       "Date                                                        \n",
       "2015-03-03                  -0.001266           -0.004981   \n",
       "2015-03-04                   0.002230            0.003241   \n",
       "2015-03-05                   0.004016            0.004076   \n",
       "2015-03-06                  -0.007905           -0.003574   \n",
       "2015-03-09                   0.000582            0.004225   \n",
       "\n",
       "            TIGER GLOBAL MANAGEMENT LLC  BERKSHIRE HATHAWAY INC    Algo 1  \\\n",
       "Date                                                                        \n",
       "2015-03-03                    -0.000496               -0.006569 -0.001942   \n",
       "2015-03-04                    -0.002534                0.004213 -0.008589   \n",
       "2015-03-05                     0.002355                0.006726 -0.000955   \n",
       "2015-03-06                    -0.008481               -0.013098 -0.004957   \n",
       "2015-03-09                     0.005843               -0.001652 -0.005447   \n",
       "\n",
       "              Algo 2   S&P 500      AMZN      AT&T      MSFT  \n",
       "Date                                                          \n",
       "2015-03-03 -0.000949  0.004408 -0.002593 -0.006503 -0.013674  \n",
       "2015-03-04  0.002416 -0.001195 -0.004680 -0.011937 -0.005083  \n",
       "2015-03-05  0.004323  0.014378  0.013062  0.000000  0.001161  \n",
       "2015-03-06 -0.011460 -0.003929 -0.020113 -0.015199 -0.017397  \n",
       "2015-03-09  0.001303  0.017254 -0.003684 -0.003957  0.011568  "
      ]
     },
     "execution_count": 35,
     "metadata": {},
     "output_type": "execute_result"
    }
   ],
   "source": [
    "# Only compare dates where return data exists for all the stocks (drop NaNs)\n",
    "comb3.dropna()\n",
    "comb3.head()"
   ]
  },
  {
   "cell_type": "markdown",
   "metadata": {},
   "source": [
    "## Re-run the risk analysis with your portfolio to see how it compares to the others"
   ]
  },
  {
   "cell_type": "markdown",
   "metadata": {},
   "source": [
    "### Calculate the Annualized Standard Deviation"
   ]
  },
  {
   "cell_type": "code",
   "execution_count": 36,
   "metadata": {},
   "outputs": [
    {
     "data": {
      "text/plain": [
       "SOROS FUND MANAGEMENT LLC      0.125348\n",
       "PAULSON & CO.INC.              0.111527\n",
       "TIGER GLOBAL MANAGEMENT LLC    0.172989\n",
       "BERKSHIRE HATHAWAY INC         0.205079\n",
       "Algo 1                         0.121006\n",
       "Algo 2                         0.132413\n",
       "S&P 500                        0.136313\n",
       "AMZN                           0.302552\n",
       "AT&T                           0.197309\n",
       "MSFT                           0.239627\n",
       "dtype: float64"
      ]
     },
     "execution_count": 36,
     "metadata": {},
     "output_type": "execute_result"
    }
   ],
   "source": [
    "# Calculate the annualized `std`\n",
    "dsd_p2 = comb3.std()\n",
    "dsd_a2 = dsd_p2 * np.sqrt(252)\n",
    "dsd_a2"
   ]
  },
  {
   "cell_type": "markdown",
   "metadata": {},
   "source": [
    "### Calculate and plot rolling `std` with 21-day window"
   ]
  },
  {
   "cell_type": "code",
   "execution_count": 37,
   "metadata": {},
   "outputs": [
    {
     "data": {
      "text/plain": [
       "array([<AxesSubplot:xlabel='Date'>, <AxesSubplot:xlabel='Date'>,\n",
       "       <AxesSubplot:xlabel='Date'>, <AxesSubplot:xlabel='Date'>,\n",
       "       <AxesSubplot:xlabel='Date'>, <AxesSubplot:xlabel='Date'>,\n",
       "       <AxesSubplot:xlabel='Date'>, <AxesSubplot:xlabel='Date'>,\n",
       "       <AxesSubplot:xlabel='Date'>, <AxesSubplot:xlabel='Date'>],\n",
       "      dtype=object)"
      ]
     },
     "execution_count": 37,
     "metadata": {},
     "output_type": "execute_result"
    },
    {
     "data": {
      "image/png": "[encoded data removed]",
      "text/plain": [
       "<Figure size 432x288 with 10 Axes>"
      ]
     },
     "metadata": {
      "needs_background": "light"
     },
     "output_type": "display_data"
    }
   ],
   "source": [
    "# Calculate rolling standard deviation\n",
    "comb3_rsd = comb3.rolling(window=21).std()\n",
    "# Plot rolling standard deviation\n",
    "comb3_rsd.plot(subplots=True)"
   ]
  },
  {
   "cell_type": "markdown",
   "metadata": {},
   "source": [
    "### Calculate and plot the correlation"
   ]
  },
  {
   "cell_type": "code",
   "execution_count": 44,
   "metadata": {},
   "outputs": [
    {
     "data": {
      "text/html": [
       "<style type=\"text/css\">\n",
       "#T_f7061_row0_col0, #T_f7061_row1_col1, #T_f7061_row2_col2, #T_f7061_row3_col3, #T_f7061_row4_col4, #T_f7061_row5_col5, #T_f7061_row6_col6, #T_f7061_row7_col7, #T_f7061_row8_col8, #T_f7061_row9_col9 {\n",
       "  background-color: #ffff66;\n",
       "  color: #000000;\n",
       "}\n",
       "#T_f7061_row0_col1 {\n",
       "  background-color: #b2d866;\n",
       "  color: #000000;\n",
       "}\n",
       "#T_f7061_row0_col2, #T_f7061_row2_col0, #T_f7061_row7_col5 {\n",
       "  background-color: #8fc766;\n",
       "  color: #000000;\n",
       "}\n",
       "#T_f7061_row0_col3, #T_f7061_row3_col0 {\n",
       "  background-color: #c1e066;\n",
       "  color: #000000;\n",
       "}\n",
       "#T_f7061_row0_col4 {\n",
       "  background-color: #57ab66;\n",
       "  color: #f1f1f1;\n",
       "}\n",
       "#T_f7061_row0_col5, #T_f7061_row5_col0 {\n",
       "  background-color: #d3e966;\n",
       "  color: #000000;\n",
       "}\n",
       "#T_f7061_row0_col6 {\n",
       "  background-color: #379b66;\n",
       "  color: #f1f1f1;\n",
       "}\n",
       "#T_f7061_row0_col7 {\n",
       "  background-color: #90c866;\n",
       "  color: #000000;\n",
       "}\n",
       "#T_f7061_row0_col8 {\n",
       "  background-color: #59ac66;\n",
       "  color: #f1f1f1;\n",
       "}\n",
       "#T_f7061_row0_col9, #T_f7061_row9_col0 {\n",
       "  background-color: #99cc66;\n",
       "  color: #000000;\n",
       "}\n",
       "#T_f7061_row1_col0 {\n",
       "  background-color: #b3d966;\n",
       "  color: #000000;\n",
       "}\n",
       "#T_f7061_row1_col2 {\n",
       "  background-color: #6fb766;\n",
       "  color: #f1f1f1;\n",
       "}\n",
       "#T_f7061_row1_col3 {\n",
       "  background-color: #8dc666;\n",
       "  color: #000000;\n",
       "}\n",
       "#T_f7061_row1_col4, #T_f7061_row4_col5, #T_f7061_row4_col8 {\n",
       "  background-color: #4aa466;\n",
       "  color: #f1f1f1;\n",
       "}\n",
       "#T_f7061_row1_col5 {\n",
       "  background-color: #add666;\n",
       "  color: #000000;\n",
       "}\n",
       "#T_f7061_row1_col6 {\n",
       "  background-color: #399c66;\n",
       "  color: #f1f1f1;\n",
       "}\n",
       "#T_f7061_row1_col7 {\n",
       "  background-color: #73b966;\n",
       "  color: #f1f1f1;\n",
       "}\n",
       "#T_f7061_row1_col8 {\n",
       "  background-color: #53a966;\n",
       "  color: #f1f1f1;\n",
       "}\n",
       "#T_f7061_row1_col9 {\n",
       "  background-color: #7bbd66;\n",
       "  color: #000000;\n",
       "}\n",
       "#T_f7061_row2_col1 {\n",
       "  background-color: #6db666;\n",
       "  color: #f1f1f1;\n",
       "}\n",
       "#T_f7061_row2_col3 {\n",
       "  background-color: #6eb666;\n",
       "  color: #f1f1f1;\n",
       "}\n",
       "#T_f7061_row2_col4 {\n",
       "  background-color: #319866;\n",
       "  color: #f1f1f1;\n",
       "}\n",
       "#T_f7061_row2_col5, #T_f7061_row5_col2 {\n",
       "  background-color: #82c066;\n",
       "  color: #000000;\n",
       "}\n",
       "#T_f7061_row2_col6, #T_f7061_row4_col7, #T_f7061_row5_col6, #T_f7061_row9_col6 {\n",
       "  background-color: #369a66;\n",
       "  color: #f1f1f1;\n",
       "}\n",
       "#T_f7061_row2_col7, #T_f7061_row3_col8 {\n",
       "  background-color: #54aa66;\n",
       "  color: #f1f1f1;\n",
       "}\n",
       "#T_f7061_row2_col8 {\n",
       "  background-color: #55aa66;\n",
       "  color: #f1f1f1;\n",
       "}\n",
       "#T_f7061_row2_col9, #T_f7061_row9_col2 {\n",
       "  background-color: #68b366;\n",
       "  color: #f1f1f1;\n",
       "}\n",
       "#T_f7061_row3_col1 {\n",
       "  background-color: #8ac466;\n",
       "  color: #000000;\n",
       "}\n",
       "#T_f7061_row3_col2 {\n",
       "  background-color: #6cb666;\n",
       "  color: #f1f1f1;\n",
       "}\n",
       "#T_f7061_row3_col4 {\n",
       "  background-color: #50a866;\n",
       "  color: #f1f1f1;\n",
       "}\n",
       "#T_f7061_row3_col5 {\n",
       "  background-color: #b0d866;\n",
       "  color: #000000;\n",
       "}\n",
       "#T_f7061_row3_col6 {\n",
       "  background-color: #349a66;\n",
       "  color: #f1f1f1;\n",
       "}\n",
       "#T_f7061_row3_col7 {\n",
       "  background-color: #a5d266;\n",
       "  color: #000000;\n",
       "}\n",
       "#T_f7061_row3_col9 {\n",
       "  background-color: #aad466;\n",
       "  color: #000000;\n",
       "}\n",
       "#T_f7061_row4_col0 {\n",
       "  background-color: #52a866;\n",
       "  color: #f1f1f1;\n",
       "}\n",
       "#T_f7061_row4_col1, #T_f7061_row7_col4 {\n",
       "  background-color: #42a066;\n",
       "  color: #f1f1f1;\n",
       "}\n",
       "#T_f7061_row4_col2 {\n",
       "  background-color: #2a9466;\n",
       "  color: #f1f1f1;\n",
       "}\n",
       "#T_f7061_row4_col3 {\n",
       "  background-color: #4da666;\n",
       "  color: #f1f1f1;\n",
       "}\n",
       "#T_f7061_row4_col6 {\n",
       "  background-color: #309866;\n",
       "  color: #f1f1f1;\n",
       "}\n",
       "#T_f7061_row4_col9 {\n",
       "  background-color: #2c9666;\n",
       "  color: #f1f1f1;\n",
       "}\n",
       "#T_f7061_row5_col1 {\n",
       "  background-color: #acd666;\n",
       "  color: #000000;\n",
       "}\n",
       "#T_f7061_row5_col3 {\n",
       "  background-color: #b1d866;\n",
       "  color: #000000;\n",
       "}\n",
       "#T_f7061_row5_col4 {\n",
       "  background-color: #4fa766;\n",
       "  color: #f1f1f1;\n",
       "}\n",
       "#T_f7061_row5_col7 {\n",
       "  background-color: #8cc666;\n",
       "  color: #000000;\n",
       "}\n",
       "#T_f7061_row5_col8 {\n",
       "  background-color: #61b066;\n",
       "  color: #f1f1f1;\n",
       "}\n",
       "#T_f7061_row5_col9, #T_f7061_row9_col5 {\n",
       "  background-color: #9cce66;\n",
       "  color: #000000;\n",
       "}\n",
       "#T_f7061_row6_col0, #T_f7061_row6_col1, #T_f7061_row6_col2, #T_f7061_row6_col3, #T_f7061_row6_col4, #T_f7061_row6_col5, #T_f7061_row6_col7, #T_f7061_row6_col8, #T_f7061_row6_col9, #T_f7061_row8_col6 {\n",
       "  background-color: #008066;\n",
       "  color: #f1f1f1;\n",
       "}\n",
       "#T_f7061_row7_col0 {\n",
       "  background-color: #92c866;\n",
       "  color: #000000;\n",
       "}\n",
       "#T_f7061_row7_col1 {\n",
       "  background-color: #75ba66;\n",
       "  color: #f1f1f1;\n",
       "}\n",
       "#T_f7061_row7_col2 {\n",
       "  background-color: #58ac66;\n",
       "  color: #f1f1f1;\n",
       "}\n",
       "#T_f7061_row7_col3 {\n",
       "  background-color: #a8d366;\n",
       "  color: #000000;\n",
       "}\n",
       "#T_f7061_row7_col6 {\n",
       "  background-color: #3c9e66;\n",
       "  color: #f1f1f1;\n",
       "}\n",
       "#T_f7061_row7_col8 {\n",
       "  background-color: #48a366;\n",
       "  color: #f1f1f1;\n",
       "}\n",
       "#T_f7061_row7_col9 {\n",
       "  background-color: #b6db66;\n",
       "  color: #000000;\n",
       "}\n",
       "#T_f7061_row8_col0 {\n",
       "  background-color: #2b9566;\n",
       "  color: #f1f1f1;\n",
       "}\n",
       "#T_f7061_row8_col1 {\n",
       "  background-color: #219066;\n",
       "  color: #f1f1f1;\n",
       "}\n",
       "#T_f7061_row8_col2 {\n",
       "  background-color: #269266;\n",
       "  color: #f1f1f1;\n",
       "}\n",
       "#T_f7061_row8_col3 {\n",
       "  background-color: #289366;\n",
       "  color: #f1f1f1;\n",
       "}\n",
       "#T_f7061_row8_col4 {\n",
       "  background-color: #1f8f66;\n",
       "  color: #f1f1f1;\n",
       "}\n",
       "#T_f7061_row8_col5 {\n",
       "  background-color: #359a66;\n",
       "  color: #f1f1f1;\n",
       "}\n",
       "#T_f7061_row8_col7 {\n",
       "  background-color: #0f8766;\n",
       "  color: #f1f1f1;\n",
       "}\n",
       "#T_f7061_row8_col9, #T_f7061_row9_col4 {\n",
       "  background-color: #339966;\n",
       "  color: #f1f1f1;\n",
       "}\n",
       "#T_f7061_row9_col1 {\n",
       "  background-color: #79bc66;\n",
       "  color: #000000;\n",
       "}\n",
       "#T_f7061_row9_col3 {\n",
       "  background-color: #abd566;\n",
       "  color: #000000;\n",
       "}\n",
       "#T_f7061_row9_col7 {\n",
       "  background-color: #b4da66;\n",
       "  color: #000000;\n",
       "}\n",
       "#T_f7061_row9_col8 {\n",
       "  background-color: #5faf66;\n",
       "  color: #f1f1f1;\n",
       "}\n",
       "</style>\n",
       "<table id=\"T_f7061_\">\n",
       "  <thead>\n",
       "    <tr>\n",
       "      <th class=\"blank level0\" >&nbsp;</th>\n",
       "      <th class=\"col_heading level0 col0\" >SOROS FUND MANAGEMENT LLC</th>\n",
       "      <th class=\"col_heading level0 col1\" >PAULSON & CO.INC. </th>\n",
       "      <th class=\"col_heading level0 col2\" >TIGER GLOBAL MANAGEMENT LLC</th>\n",
       "      <th class=\"col_heading level0 col3\" >BERKSHIRE HATHAWAY INC</th>\n",
       "      <th class=\"col_heading level0 col4\" >Algo 1</th>\n",
       "      <th class=\"col_heading level0 col5\" >Algo 2</th>\n",
       "      <th class=\"col_heading level0 col6\" >S&P 500</th>\n",
       "      <th class=\"col_heading level0 col7\" >AMZN</th>\n",
       "      <th class=\"col_heading level0 col8\" >AT&T</th>\n",
       "      <th class=\"col_heading level0 col9\" >MSFT</th>\n",
       "    </tr>\n",
       "  </thead>\n",
       "  <tbody>\n",
       "    <tr>\n",
       "      <th id=\"T_f7061_level0_row0\" class=\"row_heading level0 row0\" >SOROS FUND MANAGEMENT LLC</th>\n",
       "      <td id=\"T_f7061_row0_col0\" class=\"data row0 col0\" >1.000000</td>\n",
       "      <td id=\"T_f7061_row0_col1\" class=\"data row0 col1\" >0.699823</td>\n",
       "      <td id=\"T_f7061_row0_col2\" class=\"data row0 col2\" >0.561040</td>\n",
       "      <td id=\"T_f7061_row0_col3\" class=\"data row0 col3\" >0.754157</td>\n",
       "      <td id=\"T_f7061_row0_col4\" class=\"data row0 col4\" >0.320901</td>\n",
       "      <td id=\"T_f7061_row0_col5\" class=\"data row0 col5\" >0.826730</td>\n",
       "      <td id=\"T_f7061_row0_col6\" class=\"data row0 col6\" >0.000574</td>\n",
       "      <td id=\"T_f7061_row0_col7\" class=\"data row0 col7\" >0.573961</td>\n",
       "      <td id=\"T_f7061_row0_col8\" class=\"data row0 col8\" >0.169408</td>\n",
       "      <td id=\"T_f7061_row0_col9\" class=\"data row0 col9\" >0.600224</td>\n",
       "    </tr>\n",
       "    <tr>\n",
       "      <th id=\"T_f7061_level0_row1\" class=\"row_heading level0 row1\" >PAULSON & CO.INC. </th>\n",
       "      <td id=\"T_f7061_row1_col0\" class=\"data row1 col0\" >0.699823</td>\n",
       "      <td id=\"T_f7061_row1_col1\" class=\"data row1 col1\" >1.000000</td>\n",
       "      <td id=\"T_f7061_row1_col2\" class=\"data row1 col2\" >0.434308</td>\n",
       "      <td id=\"T_f7061_row1_col3\" class=\"data row1 col3\" >0.545451</td>\n",
       "      <td id=\"T_f7061_row1_col4\" class=\"data row1 col4\" >0.268631</td>\n",
       "      <td id=\"T_f7061_row1_col5\" class=\"data row1 col5\" >0.678085</td>\n",
       "      <td id=\"T_f7061_row1_col6\" class=\"data row1 col6\" >0.013549</td>\n",
       "      <td id=\"T_f7061_row1_col7\" class=\"data row1 col7\" >0.464917</td>\n",
       "      <td id=\"T_f7061_row1_col8\" class=\"data row1 col8\" >0.141774</td>\n",
       "      <td id=\"T_f7061_row1_col9\" class=\"data row1 col9\" >0.480233</td>\n",
       "    </tr>\n",
       "    <tr>\n",
       "      <th id=\"T_f7061_level0_row2\" class=\"row_heading level0 row2\" >TIGER GLOBAL MANAGEMENT LLC</th>\n",
       "      <td id=\"T_f7061_row2_col0\" class=\"data row2 col0\" >0.561040</td>\n",
       "      <td id=\"T_f7061_row2_col1\" class=\"data row2 col1\" >0.434308</td>\n",
       "      <td id=\"T_f7061_row2_col2\" class=\"data row2 col2\" >1.000000</td>\n",
       "      <td id=\"T_f7061_row2_col3\" class=\"data row2 col3\" >0.424125</td>\n",
       "      <td id=\"T_f7061_row2_col4\" class=\"data row2 col4\" >0.164114</td>\n",
       "      <td id=\"T_f7061_row2_col5\" class=\"data row2 col5\" >0.507160</td>\n",
       "      <td id=\"T_f7061_row2_col6\" class=\"data row2 col6\" >-0.001505</td>\n",
       "      <td id=\"T_f7061_row2_col7\" class=\"data row2 col7\" >0.345891</td>\n",
       "      <td id=\"T_f7061_row2_col8\" class=\"data row2 col8\" >0.150406</td>\n",
       "      <td id=\"T_f7061_row2_col9\" class=\"data row2 col9\" >0.408999</td>\n",
       "    </tr>\n",
       "    <tr>\n",
       "      <th id=\"T_f7061_level0_row3\" class=\"row_heading level0 row3\" >BERKSHIRE HATHAWAY INC</th>\n",
       "      <td id=\"T_f7061_row3_col0\" class=\"data row3 col0\" >0.754157</td>\n",
       "      <td id=\"T_f7061_row3_col1\" class=\"data row3 col1\" >0.545451</td>\n",
       "      <td id=\"T_f7061_row3_col2\" class=\"data row3 col2\" >0.424125</td>\n",
       "      <td id=\"T_f7061_row3_col3\" class=\"data row3 col3\" >1.000000</td>\n",
       "      <td id=\"T_f7061_row3_col4\" class=\"data row3 col4\" >0.291678</td>\n",
       "      <td id=\"T_f7061_row3_col5\" class=\"data row3 col5\" >0.687756</td>\n",
       "      <td id=\"T_f7061_row3_col6\" class=\"data row3 col6\" >-0.013856</td>\n",
       "      <td id=\"T_f7061_row3_col7\" class=\"data row3 col7\" >0.653577</td>\n",
       "      <td id=\"T_f7061_row3_col8\" class=\"data row3 col8\" >0.147212</td>\n",
       "      <td id=\"T_f7061_row3_col9\" class=\"data row3 col9\" >0.666497</td>\n",
       "    </tr>\n",
       "    <tr>\n",
       "      <th id=\"T_f7061_level0_row4\" class=\"row_heading level0 row4\" >Algo 1</th>\n",
       "      <td id=\"T_f7061_row4_col0\" class=\"data row4 col0\" >0.320901</td>\n",
       "      <td id=\"T_f7061_row4_col1\" class=\"data row4 col1\" >0.268631</td>\n",
       "      <td id=\"T_f7061_row4_col2\" class=\"data row4 col2\" >0.164114</td>\n",
       "      <td id=\"T_f7061_row4_col3\" class=\"data row4 col3\" >0.291678</td>\n",
       "      <td id=\"T_f7061_row4_col4\" class=\"data row4 col4\" >1.000000</td>\n",
       "      <td id=\"T_f7061_row4_col5\" class=\"data row4 col5\" >0.287852</td>\n",
       "      <td id=\"T_f7061_row4_col6\" class=\"data row4 col6\" >-0.033963</td>\n",
       "      <td id=\"T_f7061_row4_col7\" class=\"data row4 col7\" >0.233977</td>\n",
       "      <td id=\"T_f7061_row4_col8\" class=\"data row4 col8\" >0.095121</td>\n",
       "      <td id=\"T_f7061_row4_col9\" class=\"data row4 col9\" >0.173070</td>\n",
       "    </tr>\n",
       "    <tr>\n",
       "      <th id=\"T_f7061_level0_row5\" class=\"row_heading level0 row5\" >Algo 2</th>\n",
       "      <td id=\"T_f7061_row5_col0\" class=\"data row5 col0\" >0.826730</td>\n",
       "      <td id=\"T_f7061_row5_col1\" class=\"data row5 col1\" >0.678085</td>\n",
       "      <td id=\"T_f7061_row5_col2\" class=\"data row5 col2\" >0.507160</td>\n",
       "      <td id=\"T_f7061_row5_col3\" class=\"data row5 col3\" >0.687756</td>\n",
       "      <td id=\"T_f7061_row5_col4\" class=\"data row5 col4\" >0.287852</td>\n",
       "      <td id=\"T_f7061_row5_col5\" class=\"data row5 col5\" >1.000000</td>\n",
       "      <td id=\"T_f7061_row5_col6\" class=\"data row5 col6\" >-0.002192</td>\n",
       "      <td id=\"T_f7061_row5_col7\" class=\"data row5 col7\" >0.559623</td>\n",
       "      <td id=\"T_f7061_row5_col8\" class=\"data row5 col8\" >0.208995</td>\n",
       "      <td id=\"T_f7061_row5_col9\" class=\"data row5 col9\" >0.609353</td>\n",
       "    </tr>\n",
       "    <tr>\n",
       "      <th id=\"T_f7061_level0_row6\" class=\"row_heading level0 row6\" >S&P 500</th>\n",
       "      <td id=\"T_f7061_row6_col0\" class=\"data row6 col0\" >0.000574</td>\n",
       "      <td id=\"T_f7061_row6_col1\" class=\"data row6 col1\" >0.013549</td>\n",
       "      <td id=\"T_f7061_row6_col2\" class=\"data row6 col2\" >-0.001505</td>\n",
       "      <td id=\"T_f7061_row6_col3\" class=\"data row6 col3\" >-0.013856</td>\n",
       "      <td id=\"T_f7061_row6_col4\" class=\"data row6 col4\" >-0.033963</td>\n",
       "      <td id=\"T_f7061_row6_col5\" class=\"data row6 col5\" >-0.002192</td>\n",
       "      <td id=\"T_f7061_row6_col6\" class=\"data row6 col6\" >1.000000</td>\n",
       "      <td id=\"T_f7061_row6_col7\" class=\"data row6 col7\" >0.024681</td>\n",
       "      <td id=\"T_f7061_row6_col8\" class=\"data row6 col8\" >-0.274297</td>\n",
       "      <td id=\"T_f7061_row6_col9\" class=\"data row6 col9\" >-0.001468</td>\n",
       "    </tr>\n",
       "    <tr>\n",
       "      <th id=\"T_f7061_level0_row7\" class=\"row_heading level0 row7\" >AMZN</th>\n",
       "      <td id=\"T_f7061_row7_col0\" class=\"data row7 col0\" >0.573961</td>\n",
       "      <td id=\"T_f7061_row7_col1\" class=\"data row7 col1\" >0.464917</td>\n",
       "      <td id=\"T_f7061_row7_col2\" class=\"data row7 col2\" >0.345891</td>\n",
       "      <td id=\"T_f7061_row7_col3\" class=\"data row7 col3\" >0.653577</td>\n",
       "      <td id=\"T_f7061_row7_col4\" class=\"data row7 col4\" >0.233977</td>\n",
       "      <td id=\"T_f7061_row7_col5\" class=\"data row7 col5\" >0.559623</td>\n",
       "      <td id=\"T_f7061_row7_col6\" class=\"data row7 col6\" >0.024681</td>\n",
       "      <td id=\"T_f7061_row7_col7\" class=\"data row7 col7\" >1.000000</td>\n",
       "      <td id=\"T_f7061_row7_col8\" class=\"data row7 col8\" >0.085149</td>\n",
       "      <td id=\"T_f7061_row7_col9\" class=\"data row7 col9\" >0.710990</td>\n",
       "    </tr>\n",
       "    <tr>\n",
       "      <th id=\"T_f7061_level0_row8\" class=\"row_heading level0 row8\" >AT&T</th>\n",
       "      <td id=\"T_f7061_row8_col0\" class=\"data row8 col0\" >0.169408</td>\n",
       "      <td id=\"T_f7061_row8_col1\" class=\"data row8 col1\" >0.141774</td>\n",
       "      <td id=\"T_f7061_row8_col2\" class=\"data row8 col2\" >0.150406</td>\n",
       "      <td id=\"T_f7061_row8_col3\" class=\"data row8 col3\" >0.147212</td>\n",
       "      <td id=\"T_f7061_row8_col4\" class=\"data row8 col4\" >0.095121</td>\n",
       "      <td id=\"T_f7061_row8_col5\" class=\"data row8 col5\" >0.208995</td>\n",
       "      <td id=\"T_f7061_row8_col6\" class=\"data row8 col6\" >-0.274297</td>\n",
       "      <td id=\"T_f7061_row8_col7\" class=\"data row8 col7\" >0.085149</td>\n",
       "      <td id=\"T_f7061_row8_col8\" class=\"data row8 col8\" >1.000000</td>\n",
       "      <td id=\"T_f7061_row8_col9\" class=\"data row8 col9\" >0.200231</td>\n",
       "    </tr>\n",
       "    <tr>\n",
       "      <th id=\"T_f7061_level0_row9\" class=\"row_heading level0 row9\" >MSFT</th>\n",
       "      <td id=\"T_f7061_row9_col0\" class=\"data row9 col0\" >0.600224</td>\n",
       "      <td id=\"T_f7061_row9_col1\" class=\"data row9 col1\" >0.480233</td>\n",
       "      <td id=\"T_f7061_row9_col2\" class=\"data row9 col2\" >0.408999</td>\n",
       "      <td id=\"T_f7061_row9_col3\" class=\"data row9 col3\" >0.666497</td>\n",
       "      <td id=\"T_f7061_row9_col4\" class=\"data row9 col4\" >0.173070</td>\n",
       "      <td id=\"T_f7061_row9_col5\" class=\"data row9 col5\" >0.609353</td>\n",
       "      <td id=\"T_f7061_row9_col6\" class=\"data row9 col6\" >-0.001468</td>\n",
       "      <td id=\"T_f7061_row9_col7\" class=\"data row9 col7\" >0.710990</td>\n",
       "      <td id=\"T_f7061_row9_col8\" class=\"data row9 col8\" >0.200231</td>\n",
       "      <td id=\"T_f7061_row9_col9\" class=\"data row9 col9\" >1.000000</td>\n",
       "    </tr>\n",
       "  </tbody>\n",
       "</table>\n"
      ],
      "text/plain": [
       "<pandas.io.formats.style.Styler at 0x26a16ab6248>"
      ]
     },
     "execution_count": 44,
     "metadata": {},
     "output_type": "execute_result"
    }
   ],
   "source": [
    "# Calculate and plot the correlation\n",
    "comb3_corr = comb3.corr()\n",
    "comb3_corr.style.background_gradient(cmap=\"summer\")"
   ]
  },
  {
   "cell_type": "markdown",
   "metadata": {},
   "source": [
    "### Calculate and Plot Rolling 60-day Beta for Your Portfolio compared to the S&P 500"
   ]
  },
  {
   "cell_type": "code",
   "execution_count": 39,
   "metadata": {},
   "outputs": [
    {
     "data": {
      "text/plain": [
       "<AxesSubplot:xlabel='Date'>"
      ]
     },
     "execution_count": 39,
     "metadata": {},
     "output_type": "execute_result"
    },
    {
     "data": {
      "image/png": "[encoded data removed]",
      "text/plain": [
       "<Figure size 432x288 with 1 Axes>"
      ]
     },
     "metadata": {
      "needs_background": "light"
     },
     "output_type": "display_data"
    }
   ],
   "source": [
    "# Calculate and plot Beta\n",
    "cvar_p = comb3.rolling(window=60).cov(comb3['S&P 500'])\n",
    "var_5_2 = comb3['S&P 500'].rolling(window=60).var()\n",
    "\n",
    "beta_p = cvar_p/var_5_2\n",
    "beta_b.plot()"
   ]
  },
  {
   "cell_type": "markdown",
   "metadata": {},
   "source": [
    "### Using the daily returns, calculate and visualize the Sharpe ratios using a bar plot"
   ]
  },
  {
   "cell_type": "code",
   "execution_count": 40,
   "metadata": {},
   "outputs": [],
   "source": [
    "# Calculate Annualized Sharpe Ratios\n",
    "sr2 = (comb3.mean() * 252) / (comb3.std() * np.sqrt(252))"
   ]
  },
  {
   "cell_type": "code",
   "execution_count": 41,
   "metadata": {},
   "outputs": [
    {
     "data": {
      "text/plain": [
       "<AxesSubplot:>"
      ]
     },
     "execution_count": 41,
     "metadata": {},
     "output_type": "execute_result"
    },
    {
     "data": {
      "image/png": "[encoded data removed]",
      "text/plain": [
       "<Figure size 432x288 with 1 Axes>"
      ]
     },
     "metadata": {
      "needs_background": "light"
     },
     "output_type": "display_data"
    }
   ],
   "source": [
    "# Visualize the sharpe ratios as a bar plot\n",
    "sr2.plot(kind='bar')"
   ]
  },
  {
   "cell_type": "markdown",
   "metadata": {},
   "source": [
    "### How does your portfolio do?\n",
    "\n",
    "In aggregate, my portfolio performs better than the market."
   ]
  },
  {
   "cell_type": "code",
   "execution_count": null,
   "metadata": {},
   "outputs": [],
   "source": []
  }
 ],
 "metadata": {
  "file_extension": ".py",
  "kernelspec": {
   "display_name": "Python 3 (ipykernel)",
   "language": "python",
   "name": "python3"
  },
  "language_info": {
   "codemirror_mode": {
    "name": "ipython",
    "version": 3
   },
   "file_extension": ".py",
   "mimetype": "text/x-python",
   "name": "python",
   "nbconvert_exporter": "python",
   "pygments_lexer": "ipython3",
   "version": "3.7.13"
  },
  "mimetype": "text/x-python",
  "name": "python",
  "npconvert_exporter": "python",
  "pygments_lexer": "ipython3",
  "version": 3
 },
 "nbformat": 4,
 "nbformat_minor": 4
}
